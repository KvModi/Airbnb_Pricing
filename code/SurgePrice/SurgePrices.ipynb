{
 "cells": [
  {
   "cell_type": "code",
   "execution_count": 1,
   "metadata": {},
   "outputs": [],
   "source": [
    "import re\n",
    "import numpy as np\n",
    "import pandas as pd\n",
    "from math import * \n",
    "import scipy as sp\n",
    "from scipy.stats import mode\n",
    "from sklearn import linear_model\n",
    "import matplotlib\n",
    "import matplotlib.pyplot as plt\n",
    "from sklearn import discriminant_analysis\n",
    "from sklearn.decomposition import PCA\n",
    "from sklearn import preprocessing\n",
    "%matplotlib inline "
   ]
  },
  {
   "cell_type": "code",
   "execution_count": 2,
   "metadata": {},
   "outputs": [],
   "source": [
    "#for i in range(len(prices)):\n",
    "    #prices[i] = prices[i].replace(',', '')\n",
    "    #prices[i] = prices[i].strip('$')\n",
    "    #prices[i] = float(prices[i])\n",
    "   "
   ]
  },
  {
   "cell_type": "markdown",
   "metadata": {},
   "source": [
    "## Calendar Data "
   ]
  },
  {
   "cell_type": "code",
   "execution_count": 46,
   "metadata": {},
   "outputs": [],
   "source": [
    "time_data = pd.read_csv('Airbnb_data/calendar.csv', delimiter=',')\n",
    "time_data.drop(columns=['maximum_nights'], inplace=True)\n",
    "time_data.drop(columns=['minimum_nights'], inplace=True)\n",
    "time_data.head()\n",
    "from sklearn.utils import shuffle\n",
    "time_data=shuffle(time_data, random_state=0)"
   ]
  },
  {
   "cell_type": "code",
   "execution_count": 47,
   "metadata": {},
   "outputs": [],
   "source": [
    "# Regex the price and generate log(price)\n",
    "time_data['price'] = time_data['price'].replace('[\\$,)]','', regex=True).replace('[(]','-', regex=True).astype(float)\n",
    "time_data['log_price'] = np.log(time_data['price'].values)"
   ]
  },
  {
   "cell_type": "code",
   "execution_count": 48,
   "metadata": {},
   "outputs": [],
   "source": [
    "time_data = time_data[np.isfinite(time_data['price'])]\n",
    "#time_data.dropna(thresh=4)\n",
    "time_data.drop(columns=['available'], inplace=True)"
   ]
  },
  {
   "cell_type": "code",
   "execution_count": 49,
   "metadata": {},
   "outputs": [
    {
     "data": {
      "text/plain": [
       "62822905"
      ]
     },
     "execution_count": 49,
     "metadata": {},
     "output_type": "execute_result"
    }
   ],
   "source": [
    "time_data.size"
   ]
  },
  {
   "cell_type": "code",
   "execution_count": 50,
   "metadata": {},
   "outputs": [],
   "source": [
    "# Only consider data for which there is data\n",
    "nan_adjusted = time_data[np.isfinite(time_data['log_price'])]"
   ]
  },
  {
   "cell_type": "code",
   "execution_count": 51,
   "metadata": {},
   "outputs": [],
   "source": [
    "#Still left with a reasonable amount of observations\n",
    "grouped = nan_adjusted.groupby(['listing_id'], as_index = False)\n",
    "\n",
    "means = grouped['price'].mean().values\n"
   ]
  },
  {
   "cell_type": "code",
   "execution_count": 52,
   "metadata": {},
   "outputs": [],
   "source": [
    "# Group by listing_id, then find each listing id's average price\n",
    "grouped = nan_adjusted.groupby(['listing_id'], as_index = False)\n",
    "\n",
    "means = grouped['price'].mean().values\n",
    "log_means = grouped['log_price'].mean().values"
   ]
  },
  {
   "cell_type": "code",
   "execution_count": 53,
   "metadata": {},
   "outputs": [],
   "source": [
    "# log_means = grouped['log_price'].mean().values\n",
    "# plt.hist(means, bins='auto')  # arguments are passed to np.histogram\n",
    "# plt.title(\"distribution of mean price by listing_id\")\n",
    "# plt.show()\n",
    "\n",
    "# plt.hist(time_data['price'], bins='auto')  # arguments are passed to np.histogram\n",
    "# plt.title(\"distribution of mean price by listing_id\")\n",
    "# plt.show()\n",
    "\n",
    "# plt.hist(log_means, bins='auto')  # arguments are passed to np.histogram\n",
    "# plt.title(\"distribution of the mean of log(price) by listing_id\")\n",
    "# plt.show()"
   ]
  },
  {
   "cell_type": "code",
   "execution_count": 54,
   "metadata": {},
   "outputs": [
    {
     "data": {
      "image/png": "[encoded data removed]",
      "text/plain": [
       "<Figure size 432x288 with 1 Axes>"
      ]
     },
     "metadata": {
      "needs_background": "light"
     },
     "output_type": "display_data"
    },
    {
     "data": {
      "image/png": "[encoded data removed]",
      "text/plain": [
       "<Figure size 432x288 with 1 Axes>"
      ]
     },
     "metadata": {
      "needs_background": "light"
     },
     "output_type": "display_data"
    }
   ],
   "source": [
    "\n",
    "means = grouped['price'].mean().values\n",
    "log_means = grouped['log_price'].mean().values\n",
    "plt.hist(means, bins='auto')  # arguments are passed to np.histogram\n",
    "plt.title(\"distribution of mean price by listing_id\")\n",
    "plt.show()\n",
    "\n",
    "plt.hist(log_means, bins='auto')  # arguments are passed to np.histogram\n",
    "plt.title(\"distribution of the mean of log(price) by listing_id\")\n",
    "plt.show()"
   ]
  },
  {
   "cell_type": "code",
   "execution_count": 55,
   "metadata": {},
   "outputs": [],
   "source": [
    "#Goals: \n",
    "# 1)Get the average price for each specific listing [done]\n",
    "# 2)Compute the distance between each day's price and the average price [done]\n",
    "# 3)Visualize spikes [done]\n",
    "# 4)For each day, check the change in price [done]"
   ]
  },
  {
   "cell_type": "code",
   "execution_count": 56,
   "metadata": {},
   "outputs": [],
   "source": [
    "# Find high demand dates by checking for positive distance between a listings average price and it's current price.\n",
    "# For these purposes, high demand is categorized as a date which experienced, on average, properties being \n",
    "# priced above their average list price"
   ]
  },
  {
   "cell_type": "code",
   "execution_count": 57,
   "metadata": {},
   "outputs": [
    {
     "name": "stdout",
     "output_type": "stream",
     "text": [
      "number of unique properties: 12262\n"
     ]
    }
   ],
   "source": [
    "print (\"number of unique properties:\", len(nan_adjusted['listing_id'].unique()))"
   ]
  },
  {
   "cell_type": "code",
   "execution_count": 58,
   "metadata": {},
   "outputs": [],
   "source": [
    "# Let's sort to make things easier on pattern matching algorithm\n",
    "#df.sort_values(by='col1', ascending=False)\n",
    "#nan_adjusted.sort_values(by=['listing_id'], inplace=True)\n",
    "#time_data.sort_values(by=['listing_id'], inplace=True)"
   ]
  },
  {
   "cell_type": "code",
   "execution_count": 59,
   "metadata": {},
   "outputs": [],
   "source": [
    "mean_df = grouped.mean()\n",
    "#mean_df['listing_id']"
   ]
  },
  {
   "cell_type": "code",
   "execution_count": 60,
   "metadata": {},
   "outputs": [],
   "source": [
    "# Maybe I need to reset the index, who the hell knows if I'll use this later\n",
    "#nan_adjusted.reset_index(inplace=True)\n"
   ]
  },
  {
   "cell_type": "code",
   "execution_count": 61,
   "metadata": {},
   "outputs": [
    {
     "data": {
      "text/html": [
       "<div>\n",
       "<style scoped>\n",
       "    .dataframe tbody tr th:only-of-type {\n",
       "        vertical-align: middle;\n",
       "    }\n",
       "\n",
       "    .dataframe tbody tr th {\n",
       "        vertical-align: top;\n",
       "    }\n",
       "\n",
       "    .dataframe thead th {\n",
       "        text-align: right;\n",
       "    }\n",
       "</style>\n",
       "<table border=\"1\" class=\"dataframe\">\n",
       "  <thead>\n",
       "    <tr style=\"text-align: right;\">\n",
       "      <th></th>\n",
       "      <th>adjusted_price</th>\n",
       "      <th>date</th>\n",
       "      <th>listing_id</th>\n",
       "      <th>price</th>\n",
       "      <th>log_price</th>\n",
       "      <th>price_diff</th>\n",
       "    </tr>\n",
       "  </thead>\n",
       "  <tbody>\n",
       "    <tr>\n",
       "      <th>8931704</th>\n",
       "      <td>NaN</td>\n",
       "      <td>2019-10-29</td>\n",
       "      <td>21253564</td>\n",
       "      <td>36.0</td>\n",
       "      <td>3.583519</td>\n",
       "      <td>0</td>\n",
       "    </tr>\n",
       "    <tr>\n",
       "      <th>578301</th>\n",
       "      <td>NaN</td>\n",
       "      <td>2019-02-13</td>\n",
       "      <td>10542140</td>\n",
       "      <td>350.0</td>\n",
       "      <td>5.857933</td>\n",
       "      <td>0</td>\n",
       "    </tr>\n",
       "    <tr>\n",
       "      <th>14445766</th>\n",
       "      <td>$64.00</td>\n",
       "      <td>2019-10-08</td>\n",
       "      <td>31101954</td>\n",
       "      <td>64.0</td>\n",
       "      <td>4.158883</td>\n",
       "      <td>0</td>\n",
       "    </tr>\n",
       "    <tr>\n",
       "      <th>6885269</th>\n",
       "      <td>NaN</td>\n",
       "      <td>2018-07-02</td>\n",
       "      <td>21796886</td>\n",
       "      <td>674.0</td>\n",
       "      <td>6.513230</td>\n",
       "      <td>0</td>\n",
       "    </tr>\n",
       "    <tr>\n",
       "      <th>18805783</th>\n",
       "      <td>NaN</td>\n",
       "      <td>2018-08-27</td>\n",
       "      <td>26122149</td>\n",
       "      <td>560.0</td>\n",
       "      <td>6.327937</td>\n",
       "      <td>0</td>\n",
       "    </tr>\n",
       "  </tbody>\n",
       "</table>\n",
       "</div>"
      ],
      "text/plain": [
       "         adjusted_price        date  listing_id  price  log_price  price_diff\n",
       "8931704             NaN  2019-10-29    21253564   36.0   3.583519           0\n",
       "578301              NaN  2019-02-13    10542140  350.0   5.857933           0\n",
       "14445766         $64.00  2019-10-08    31101954   64.0   4.158883           0\n",
       "6885269             NaN  2018-07-02    21796886  674.0   6.513230           0\n",
       "18805783            NaN  2018-08-27    26122149  560.0   6.327937           0"
      ]
     },
     "execution_count": 61,
     "metadata": {},
     "output_type": "execute_result"
    }
   ],
   "source": [
    "time_data['price_diff'] = 0\n",
    "time_data.head()"
   ]
  },
  {
   "cell_type": "code",
   "execution_count": 62,
   "metadata": {},
   "outputs": [],
   "source": [
    "# Initialize an empty column for the price differences \n",
    "nan_adjusted['price_diff'] = 0\n"
   ]
  },
  {
   "cell_type": "code",
   "execution_count": null,
   "metadata": {},
   "outputs": [],
   "source": []
  },
  {
   "cell_type": "code",
   "execution_count": 77,
   "metadata": {},
   "outputs": [
    {
     "data": {
      "text/html": [
       "<div>\n",
       "<style scoped>\n",
       "    .dataframe tbody tr th:only-of-type {\n",
       "        vertical-align: middle;\n",
       "    }\n",
       "\n",
       "    .dataframe tbody tr th {\n",
       "        vertical-align: top;\n",
       "    }\n",
       "\n",
       "    .dataframe thead th {\n",
       "        text-align: right;\n",
       "    }\n",
       "</style>\n",
       "<table border=\"1\" class=\"dataframe\">\n",
       "  <thead>\n",
       "    <tr style=\"text-align: right;\">\n",
       "      <th></th>\n",
       "      <th>index</th>\n",
       "      <th>adjusted_price</th>\n",
       "      <th>date</th>\n",
       "      <th>listing_id</th>\n",
       "      <th>price</th>\n",
       "      <th>log_price</th>\n",
       "      <th>price_diff</th>\n",
       "    </tr>\n",
       "  </thead>\n",
       "  <tbody>\n",
       "    <tr>\n",
       "      <th>0</th>\n",
       "      <td>0</td>\n",
       "      <td>NaN</td>\n",
       "      <td>2019-10-29</td>\n",
       "      <td>21253564</td>\n",
       "      <td>36.0</td>\n",
       "      <td>3.583519</td>\n",
       "      <td>0</td>\n",
       "    </tr>\n",
       "    <tr>\n",
       "      <th>1</th>\n",
       "      <td>1</td>\n",
       "      <td>NaN</td>\n",
       "      <td>2019-02-13</td>\n",
       "      <td>10542140</td>\n",
       "      <td>350.0</td>\n",
       "      <td>5.857933</td>\n",
       "      <td>0</td>\n",
       "    </tr>\n",
       "    <tr>\n",
       "      <th>2</th>\n",
       "      <td>2</td>\n",
       "      <td>$64.00</td>\n",
       "      <td>2019-10-08</td>\n",
       "      <td>31101954</td>\n",
       "      <td>64.0</td>\n",
       "      <td>4.158883</td>\n",
       "      <td>0</td>\n",
       "    </tr>\n",
       "    <tr>\n",
       "      <th>3</th>\n",
       "      <td>3</td>\n",
       "      <td>NaN</td>\n",
       "      <td>2018-07-02</td>\n",
       "      <td>21796886</td>\n",
       "      <td>674.0</td>\n",
       "      <td>6.513230</td>\n",
       "      <td>0</td>\n",
       "    </tr>\n",
       "    <tr>\n",
       "      <th>4</th>\n",
       "      <td>4</td>\n",
       "      <td>NaN</td>\n",
       "      <td>2018-08-27</td>\n",
       "      <td>26122149</td>\n",
       "      <td>560.0</td>\n",
       "      <td>6.327937</td>\n",
       "      <td>0</td>\n",
       "    </tr>\n",
       "    <tr>\n",
       "      <th>5</th>\n",
       "      <td>5</td>\n",
       "      <td>NaN</td>\n",
       "      <td>2019-06-22</td>\n",
       "      <td>24649966</td>\n",
       "      <td>434.0</td>\n",
       "      <td>6.073045</td>\n",
       "      <td>0</td>\n",
       "    </tr>\n",
       "    <tr>\n",
       "      <th>6</th>\n",
       "      <td>6</td>\n",
       "      <td>$228.00</td>\n",
       "      <td>2019-07-20</td>\n",
       "      <td>21026534</td>\n",
       "      <td>228.0</td>\n",
       "      <td>5.429346</td>\n",
       "      <td>0</td>\n",
       "    </tr>\n",
       "    <tr>\n",
       "      <th>7</th>\n",
       "      <td>7</td>\n",
       "      <td>NaN</td>\n",
       "      <td>2019-02-12</td>\n",
       "      <td>29648289</td>\n",
       "      <td>59.0</td>\n",
       "      <td>4.077537</td>\n",
       "      <td>0</td>\n",
       "    </tr>\n",
       "    <tr>\n",
       "      <th>8</th>\n",
       "      <td>8</td>\n",
       "      <td>$103.00</td>\n",
       "      <td>2019-08-04</td>\n",
       "      <td>30856009</td>\n",
       "      <td>103.0</td>\n",
       "      <td>4.634729</td>\n",
       "      <td>0</td>\n",
       "    </tr>\n",
       "    <tr>\n",
       "      <th>9</th>\n",
       "      <td>9</td>\n",
       "      <td>$214.00</td>\n",
       "      <td>2019-11-05</td>\n",
       "      <td>30503876</td>\n",
       "      <td>214.0</td>\n",
       "      <td>5.365976</td>\n",
       "      <td>0</td>\n",
       "    </tr>\n",
       "    <tr>\n",
       "      <th>10</th>\n",
       "      <td>10</td>\n",
       "      <td>$180.00</td>\n",
       "      <td>2019-02-19</td>\n",
       "      <td>7093109</td>\n",
       "      <td>180.0</td>\n",
       "      <td>5.192957</td>\n",
       "      <td>0</td>\n",
       "    </tr>\n",
       "    <tr>\n",
       "      <th>11</th>\n",
       "      <td>11</td>\n",
       "      <td>NaN</td>\n",
       "      <td>2018-08-14</td>\n",
       "      <td>20588785</td>\n",
       "      <td>145.0</td>\n",
       "      <td>4.976734</td>\n",
       "      <td>0</td>\n",
       "    </tr>\n",
       "    <tr>\n",
       "      <th>12</th>\n",
       "      <td>12</td>\n",
       "      <td>$175.00</td>\n",
       "      <td>2019-09-02</td>\n",
       "      <td>14566386</td>\n",
       "      <td>175.0</td>\n",
       "      <td>5.164786</td>\n",
       "      <td>0</td>\n",
       "    </tr>\n",
       "    <tr>\n",
       "      <th>13</th>\n",
       "      <td>13</td>\n",
       "      <td>$65.00</td>\n",
       "      <td>2019-05-17</td>\n",
       "      <td>31615171</td>\n",
       "      <td>65.0</td>\n",
       "      <td>4.174387</td>\n",
       "      <td>0</td>\n",
       "    </tr>\n",
       "    <tr>\n",
       "      <th>14</th>\n",
       "      <td>14</td>\n",
       "      <td>NaN</td>\n",
       "      <td>2019-03-19</td>\n",
       "      <td>17037270</td>\n",
       "      <td>1238.0</td>\n",
       "      <td>7.121252</td>\n",
       "      <td>0</td>\n",
       "    </tr>\n",
       "    <tr>\n",
       "      <th>15</th>\n",
       "      <td>15</td>\n",
       "      <td>$100.00</td>\n",
       "      <td>2019-04-10</td>\n",
       "      <td>32172713</td>\n",
       "      <td>100.0</td>\n",
       "      <td>4.605170</td>\n",
       "      <td>0</td>\n",
       "    </tr>\n",
       "    <tr>\n",
       "      <th>16</th>\n",
       "      <td>16</td>\n",
       "      <td>NaN</td>\n",
       "      <td>2017-12-16</td>\n",
       "      <td>20998070</td>\n",
       "      <td>375.0</td>\n",
       "      <td>5.926926</td>\n",
       "      <td>0</td>\n",
       "    </tr>\n",
       "    <tr>\n",
       "      <th>17</th>\n",
       "      <td>17</td>\n",
       "      <td>NaN</td>\n",
       "      <td>2018-01-02</td>\n",
       "      <td>16347088</td>\n",
       "      <td>165.0</td>\n",
       "      <td>5.105945</td>\n",
       "      <td>0</td>\n",
       "    </tr>\n",
       "    <tr>\n",
       "      <th>18</th>\n",
       "      <td>18</td>\n",
       "      <td>NaN</td>\n",
       "      <td>2018-11-28</td>\n",
       "      <td>27505116</td>\n",
       "      <td>65.0</td>\n",
       "      <td>4.174387</td>\n",
       "      <td>0</td>\n",
       "    </tr>\n",
       "    <tr>\n",
       "      <th>19</th>\n",
       "      <td>19</td>\n",
       "      <td>NaN</td>\n",
       "      <td>2017-12-14</td>\n",
       "      <td>18584402</td>\n",
       "      <td>79.0</td>\n",
       "      <td>4.369448</td>\n",
       "      <td>0</td>\n",
       "    </tr>\n",
       "    <tr>\n",
       "      <th>20</th>\n",
       "      <td>20</td>\n",
       "      <td>NaN</td>\n",
       "      <td>2017-12-05</td>\n",
       "      <td>16276850</td>\n",
       "      <td>135.0</td>\n",
       "      <td>4.905275</td>\n",
       "      <td>0</td>\n",
       "    </tr>\n",
       "    <tr>\n",
       "      <th>21</th>\n",
       "      <td>21</td>\n",
       "      <td>NaN</td>\n",
       "      <td>2019-02-19</td>\n",
       "      <td>23265013</td>\n",
       "      <td>308.0</td>\n",
       "      <td>5.730100</td>\n",
       "      <td>0</td>\n",
       "    </tr>\n",
       "    <tr>\n",
       "      <th>22</th>\n",
       "      <td>22</td>\n",
       "      <td>NaN</td>\n",
       "      <td>2019-06-11</td>\n",
       "      <td>7750253</td>\n",
       "      <td>250.0</td>\n",
       "      <td>5.521461</td>\n",
       "      <td>0</td>\n",
       "    </tr>\n",
       "    <tr>\n",
       "      <th>23</th>\n",
       "      <td>23</td>\n",
       "      <td>NaN</td>\n",
       "      <td>2019-08-22</td>\n",
       "      <td>19065830</td>\n",
       "      <td>200.0</td>\n",
       "      <td>5.298317</td>\n",
       "      <td>0</td>\n",
       "    </tr>\n",
       "    <tr>\n",
       "      <th>24</th>\n",
       "      <td>24</td>\n",
       "      <td>$130.00</td>\n",
       "      <td>2019-02-15</td>\n",
       "      <td>23526125</td>\n",
       "      <td>130.0</td>\n",
       "      <td>4.867534</td>\n",
       "      <td>0</td>\n",
       "    </tr>\n",
       "    <tr>\n",
       "      <th>25</th>\n",
       "      <td>25</td>\n",
       "      <td>NaN</td>\n",
       "      <td>2019-02-13</td>\n",
       "      <td>1303261</td>\n",
       "      <td>375.0</td>\n",
       "      <td>5.926926</td>\n",
       "      <td>0</td>\n",
       "    </tr>\n",
       "    <tr>\n",
       "      <th>26</th>\n",
       "      <td>26</td>\n",
       "      <td>NaN</td>\n",
       "      <td>2016-05-24</td>\n",
       "      <td>34601</td>\n",
       "      <td>200.0</td>\n",
       "      <td>5.298317</td>\n",
       "      <td>0</td>\n",
       "    </tr>\n",
       "    <tr>\n",
       "      <th>27</th>\n",
       "      <td>27</td>\n",
       "      <td>$65.00</td>\n",
       "      <td>2019-11-02</td>\n",
       "      <td>29415386</td>\n",
       "      <td>65.0</td>\n",
       "      <td>4.174387</td>\n",
       "      <td>0</td>\n",
       "    </tr>\n",
       "    <tr>\n",
       "      <th>28</th>\n",
       "      <td>28</td>\n",
       "      <td>$100.00</td>\n",
       "      <td>2019-05-31</td>\n",
       "      <td>5932402</td>\n",
       "      <td>100.0</td>\n",
       "      <td>4.605170</td>\n",
       "      <td>0</td>\n",
       "    </tr>\n",
       "    <tr>\n",
       "      <th>29</th>\n",
       "      <td>29</td>\n",
       "      <td>NaN</td>\n",
       "      <td>2018-09-18</td>\n",
       "      <td>14469677</td>\n",
       "      <td>89.0</td>\n",
       "      <td>4.488636</td>\n",
       "      <td>0</td>\n",
       "    </tr>\n",
       "    <tr>\n",
       "      <th>...</th>\n",
       "      <td>...</td>\n",
       "      <td>...</td>\n",
       "      <td>...</td>\n",
       "      <td>...</td>\n",
       "      <td>...</td>\n",
       "      <td>...</td>\n",
       "      <td>...</td>\n",
       "    </tr>\n",
       "    <tr>\n",
       "      <th>12564551</th>\n",
       "      <td>12564551</td>\n",
       "      <td>$100.00</td>\n",
       "      <td>2019-12-08</td>\n",
       "      <td>16124247</td>\n",
       "      <td>100.0</td>\n",
       "      <td>4.605170</td>\n",
       "      <td>0</td>\n",
       "    </tr>\n",
       "    <tr>\n",
       "      <th>12564552</th>\n",
       "      <td>12564552</td>\n",
       "      <td>NaN</td>\n",
       "      <td>2019-07-21</td>\n",
       "      <td>18930894</td>\n",
       "      <td>65.0</td>\n",
       "      <td>4.174387</td>\n",
       "      <td>0</td>\n",
       "    </tr>\n",
       "    <tr>\n",
       "      <th>12564553</th>\n",
       "      <td>12564553</td>\n",
       "      <td>NaN</td>\n",
       "      <td>2018-06-28</td>\n",
       "      <td>22119242</td>\n",
       "      <td>239.0</td>\n",
       "      <td>5.476464</td>\n",
       "      <td>0</td>\n",
       "    </tr>\n",
       "    <tr>\n",
       "      <th>12564554</th>\n",
       "      <td>12564554</td>\n",
       "      <td>NaN</td>\n",
       "      <td>2018-08-21</td>\n",
       "      <td>9239512</td>\n",
       "      <td>110.0</td>\n",
       "      <td>4.700480</td>\n",
       "      <td>0</td>\n",
       "    </tr>\n",
       "    <tr>\n",
       "      <th>12564555</th>\n",
       "      <td>12564555</td>\n",
       "      <td>NaN</td>\n",
       "      <td>2019-02-23</td>\n",
       "      <td>27074857</td>\n",
       "      <td>49.0</td>\n",
       "      <td>3.891820</td>\n",
       "      <td>0</td>\n",
       "    </tr>\n",
       "    <tr>\n",
       "      <th>12564556</th>\n",
       "      <td>12564556</td>\n",
       "      <td>NaN</td>\n",
       "      <td>2019-02-28</td>\n",
       "      <td>69369</td>\n",
       "      <td>78.0</td>\n",
       "      <td>4.356709</td>\n",
       "      <td>0</td>\n",
       "    </tr>\n",
       "    <tr>\n",
       "      <th>12564557</th>\n",
       "      <td>12564557</td>\n",
       "      <td>NaN</td>\n",
       "      <td>2019-10-07</td>\n",
       "      <td>9616816</td>\n",
       "      <td>265.0</td>\n",
       "      <td>5.579730</td>\n",
       "      <td>0</td>\n",
       "    </tr>\n",
       "    <tr>\n",
       "      <th>12564558</th>\n",
       "      <td>12564558</td>\n",
       "      <td>NaN</td>\n",
       "      <td>2018-12-07</td>\n",
       "      <td>29755774</td>\n",
       "      <td>220.0</td>\n",
       "      <td>5.393628</td>\n",
       "      <td>0</td>\n",
       "    </tr>\n",
       "    <tr>\n",
       "      <th>12564559</th>\n",
       "      <td>12564559</td>\n",
       "      <td>NaN</td>\n",
       "      <td>2018-01-11</td>\n",
       "      <td>9860</td>\n",
       "      <td>215.0</td>\n",
       "      <td>5.370638</td>\n",
       "      <td>0</td>\n",
       "    </tr>\n",
       "    <tr>\n",
       "      <th>12564560</th>\n",
       "      <td>12564560</td>\n",
       "      <td>NaN</td>\n",
       "      <td>2019-05-27</td>\n",
       "      <td>20350976</td>\n",
       "      <td>777.0</td>\n",
       "      <td>6.655440</td>\n",
       "      <td>0</td>\n",
       "    </tr>\n",
       "    <tr>\n",
       "      <th>12564561</th>\n",
       "      <td>12564561</td>\n",
       "      <td>$75.00</td>\n",
       "      <td>2019-11-28</td>\n",
       "      <td>5729203</td>\n",
       "      <td>75.0</td>\n",
       "      <td>4.317488</td>\n",
       "      <td>0</td>\n",
       "    </tr>\n",
       "    <tr>\n",
       "      <th>12564562</th>\n",
       "      <td>12564562</td>\n",
       "      <td>NaN</td>\n",
       "      <td>2018-02-08</td>\n",
       "      <td>19911540</td>\n",
       "      <td>55.0</td>\n",
       "      <td>4.007333</td>\n",
       "      <td>0</td>\n",
       "    </tr>\n",
       "    <tr>\n",
       "      <th>12564563</th>\n",
       "      <td>12564563</td>\n",
       "      <td>NaN</td>\n",
       "      <td>2017-07-30</td>\n",
       "      <td>12432623</td>\n",
       "      <td>85.0</td>\n",
       "      <td>4.442651</td>\n",
       "      <td>0</td>\n",
       "    </tr>\n",
       "    <tr>\n",
       "      <th>12564564</th>\n",
       "      <td>12564564</td>\n",
       "      <td>NaN</td>\n",
       "      <td>2016-09-01</td>\n",
       "      <td>6240901</td>\n",
       "      <td>88.0</td>\n",
       "      <td>4.477337</td>\n",
       "      <td>0</td>\n",
       "    </tr>\n",
       "    <tr>\n",
       "      <th>12564565</th>\n",
       "      <td>12564565</td>\n",
       "      <td>$270.00</td>\n",
       "      <td>2019-04-29</td>\n",
       "      <td>23321077</td>\n",
       "      <td>270.0</td>\n",
       "      <td>5.598422</td>\n",
       "      <td>0</td>\n",
       "    </tr>\n",
       "    <tr>\n",
       "      <th>12564566</th>\n",
       "      <td>12564566</td>\n",
       "      <td>NaN</td>\n",
       "      <td>2019-03-22</td>\n",
       "      <td>23516583</td>\n",
       "      <td>123.0</td>\n",
       "      <td>4.812184</td>\n",
       "      <td>0</td>\n",
       "    </tr>\n",
       "    <tr>\n",
       "      <th>12564567</th>\n",
       "      <td>12564567</td>\n",
       "      <td>NaN</td>\n",
       "      <td>2019-04-22</td>\n",
       "      <td>24080395</td>\n",
       "      <td>337.0</td>\n",
       "      <td>5.820083</td>\n",
       "      <td>0</td>\n",
       "    </tr>\n",
       "    <tr>\n",
       "      <th>12564568</th>\n",
       "      <td>12564568</td>\n",
       "      <td>$89.00</td>\n",
       "      <td>2020-01-16</td>\n",
       "      <td>4447990</td>\n",
       "      <td>89.0</td>\n",
       "      <td>4.488636</td>\n",
       "      <td>0</td>\n",
       "    </tr>\n",
       "    <tr>\n",
       "      <th>12564569</th>\n",
       "      <td>12564569</td>\n",
       "      <td>NaN</td>\n",
       "      <td>2019-07-20</td>\n",
       "      <td>21444743</td>\n",
       "      <td>100.0</td>\n",
       "      <td>4.605170</td>\n",
       "      <td>0</td>\n",
       "    </tr>\n",
       "    <tr>\n",
       "      <th>12564570</th>\n",
       "      <td>12564570</td>\n",
       "      <td>NaN</td>\n",
       "      <td>2016-03-22</td>\n",
       "      <td>4856333</td>\n",
       "      <td>105.0</td>\n",
       "      <td>4.653960</td>\n",
       "      <td>0</td>\n",
       "    </tr>\n",
       "    <tr>\n",
       "      <th>12564571</th>\n",
       "      <td>12564571</td>\n",
       "      <td>NaN</td>\n",
       "      <td>2019-08-23</td>\n",
       "      <td>26895576</td>\n",
       "      <td>352.0</td>\n",
       "      <td>5.863631</td>\n",
       "      <td>0</td>\n",
       "    </tr>\n",
       "    <tr>\n",
       "      <th>12564572</th>\n",
       "      <td>12564572</td>\n",
       "      <td>NaN</td>\n",
       "      <td>2016-04-30</td>\n",
       "      <td>3749523</td>\n",
       "      <td>450.0</td>\n",
       "      <td>6.109248</td>\n",
       "      <td>0</td>\n",
       "    </tr>\n",
       "    <tr>\n",
       "      <th>12564573</th>\n",
       "      <td>12564573</td>\n",
       "      <td>NaN</td>\n",
       "      <td>2018-07-13</td>\n",
       "      <td>22031411</td>\n",
       "      <td>600.0</td>\n",
       "      <td>6.396930</td>\n",
       "      <td>0</td>\n",
       "    </tr>\n",
       "    <tr>\n",
       "      <th>12564574</th>\n",
       "      <td>12564574</td>\n",
       "      <td>NaN</td>\n",
       "      <td>2019-01-21</td>\n",
       "      <td>7804358</td>\n",
       "      <td>225.0</td>\n",
       "      <td>5.416100</td>\n",
       "      <td>0</td>\n",
       "    </tr>\n",
       "    <tr>\n",
       "      <th>12564575</th>\n",
       "      <td>12564575</td>\n",
       "      <td>NaN</td>\n",
       "      <td>2018-06-12</td>\n",
       "      <td>15407065</td>\n",
       "      <td>239.0</td>\n",
       "      <td>5.476464</td>\n",
       "      <td>0</td>\n",
       "    </tr>\n",
       "    <tr>\n",
       "      <th>12564576</th>\n",
       "      <td>12564576</td>\n",
       "      <td>NaN</td>\n",
       "      <td>2019-07-31</td>\n",
       "      <td>45987</td>\n",
       "      <td>100.0</td>\n",
       "      <td>4.605170</td>\n",
       "      <td>0</td>\n",
       "    </tr>\n",
       "    <tr>\n",
       "      <th>12564577</th>\n",
       "      <td>12564577</td>\n",
       "      <td>$988.00</td>\n",
       "      <td>2020-01-03</td>\n",
       "      <td>13685207</td>\n",
       "      <td>988.0</td>\n",
       "      <td>6.895683</td>\n",
       "      <td>0</td>\n",
       "    </tr>\n",
       "    <tr>\n",
       "      <th>12564578</th>\n",
       "      <td>12564578</td>\n",
       "      <td>NaN</td>\n",
       "      <td>2016-06-07</td>\n",
       "      <td>7194897</td>\n",
       "      <td>75.0</td>\n",
       "      <td>4.317488</td>\n",
       "      <td>0</td>\n",
       "    </tr>\n",
       "    <tr>\n",
       "      <th>12564579</th>\n",
       "      <td>12564579</td>\n",
       "      <td>NaN</td>\n",
       "      <td>2018-09-14</td>\n",
       "      <td>21796006</td>\n",
       "      <td>491.0</td>\n",
       "      <td>6.196444</td>\n",
       "      <td>0</td>\n",
       "    </tr>\n",
       "    <tr>\n",
       "      <th>12564580</th>\n",
       "      <td>12564580</td>\n",
       "      <td>NaN</td>\n",
       "      <td>2019-06-19</td>\n",
       "      <td>14589695</td>\n",
       "      <td>395.0</td>\n",
       "      <td>5.978886</td>\n",
       "      <td>0</td>\n",
       "    </tr>\n",
       "  </tbody>\n",
       "</table>\n",
       "<p>12564581 rows × 7 columns</p>\n",
       "</div>"
      ],
      "text/plain": [
       "             index adjusted_price        date  listing_id   price  log_price  \\\n",
       "0                0            NaN  2019-10-29    21253564    36.0   3.583519   \n",
       "1                1            NaN  2019-02-13    10542140   350.0   5.857933   \n",
       "2                2         $64.00  2019-10-08    31101954    64.0   4.158883   \n",
       "3                3            NaN  2018-07-02    21796886   674.0   6.513230   \n",
       "4                4            NaN  2018-08-27    26122149   560.0   6.327937   \n",
       "5                5            NaN  2019-06-22    24649966   434.0   6.073045   \n",
       "6                6        $228.00  2019-07-20    21026534   228.0   5.429346   \n",
       "7                7            NaN  2019-02-12    29648289    59.0   4.077537   \n",
       "8                8        $103.00  2019-08-04    30856009   103.0   4.634729   \n",
       "9                9        $214.00  2019-11-05    30503876   214.0   5.365976   \n",
       "10              10        $180.00  2019-02-19     7093109   180.0   5.192957   \n",
       "11              11            NaN  2018-08-14    20588785   145.0   4.976734   \n",
       "12              12        $175.00  2019-09-02    14566386   175.0   5.164786   \n",
       "13              13         $65.00  2019-05-17    31615171    65.0   4.174387   \n",
       "14              14            NaN  2019-03-19    17037270  1238.0   7.121252   \n",
       "15              15        $100.00  2019-04-10    32172713   100.0   4.605170   \n",
       "16              16            NaN  2017-12-16    20998070   375.0   5.926926   \n",
       "17              17            NaN  2018-01-02    16347088   165.0   5.105945   \n",
       "18              18            NaN  2018-11-28    27505116    65.0   4.174387   \n",
       "19              19            NaN  2017-12-14    18584402    79.0   4.369448   \n",
       "20              20            NaN  2017-12-05    16276850   135.0   4.905275   \n",
       "21              21            NaN  2019-02-19    23265013   308.0   5.730100   \n",
       "22              22            NaN  2019-06-11     7750253   250.0   5.521461   \n",
       "23              23            NaN  2019-08-22    19065830   200.0   5.298317   \n",
       "24              24        $130.00  2019-02-15    23526125   130.0   4.867534   \n",
       "25              25            NaN  2019-02-13     1303261   375.0   5.926926   \n",
       "26              26            NaN  2016-05-24       34601   200.0   5.298317   \n",
       "27              27         $65.00  2019-11-02    29415386    65.0   4.174387   \n",
       "28              28        $100.00  2019-05-31     5932402   100.0   4.605170   \n",
       "29              29            NaN  2018-09-18    14469677    89.0   4.488636   \n",
       "...            ...            ...         ...         ...     ...        ...   \n",
       "12564551  12564551        $100.00  2019-12-08    16124247   100.0   4.605170   \n",
       "12564552  12564552            NaN  2019-07-21    18930894    65.0   4.174387   \n",
       "12564553  12564553            NaN  2018-06-28    22119242   239.0   5.476464   \n",
       "12564554  12564554            NaN  2018-08-21     9239512   110.0   4.700480   \n",
       "12564555  12564555            NaN  2019-02-23    27074857    49.0   3.891820   \n",
       "12564556  12564556            NaN  2019-02-28       69369    78.0   4.356709   \n",
       "12564557  12564557            NaN  2019-10-07     9616816   265.0   5.579730   \n",
       "12564558  12564558            NaN  2018-12-07    29755774   220.0   5.393628   \n",
       "12564559  12564559            NaN  2018-01-11        9860   215.0   5.370638   \n",
       "12564560  12564560            NaN  2019-05-27    20350976   777.0   6.655440   \n",
       "12564561  12564561         $75.00  2019-11-28     5729203    75.0   4.317488   \n",
       "12564562  12564562            NaN  2018-02-08    19911540    55.0   4.007333   \n",
       "12564563  12564563            NaN  2017-07-30    12432623    85.0   4.442651   \n",
       "12564564  12564564            NaN  2016-09-01     6240901    88.0   4.477337   \n",
       "12564565  12564565        $270.00  2019-04-29    23321077   270.0   5.598422   \n",
       "12564566  12564566            NaN  2019-03-22    23516583   123.0   4.812184   \n",
       "12564567  12564567            NaN  2019-04-22    24080395   337.0   5.820083   \n",
       "12564568  12564568         $89.00  2020-01-16     4447990    89.0   4.488636   \n",
       "12564569  12564569            NaN  2019-07-20    21444743   100.0   4.605170   \n",
       "12564570  12564570            NaN  2016-03-22     4856333   105.0   4.653960   \n",
       "12564571  12564571            NaN  2019-08-23    26895576   352.0   5.863631   \n",
       "12564572  12564572            NaN  2016-04-30     3749523   450.0   6.109248   \n",
       "12564573  12564573            NaN  2018-07-13    22031411   600.0   6.396930   \n",
       "12564574  12564574            NaN  2019-01-21     7804358   225.0   5.416100   \n",
       "12564575  12564575            NaN  2018-06-12    15407065   239.0   5.476464   \n",
       "12564576  12564576            NaN  2019-07-31       45987   100.0   4.605170   \n",
       "12564577  12564577        $988.00  2020-01-03    13685207   988.0   6.895683   \n",
       "12564578  12564578            NaN  2016-06-07     7194897    75.0   4.317488   \n",
       "12564579  12564579            NaN  2018-09-14    21796006   491.0   6.196444   \n",
       "12564580  12564580            NaN  2019-06-19    14589695   395.0   5.978886   \n",
       "\n",
       "          price_diff  \n",
       "0                  0  \n",
       "1                  0  \n",
       "2                  0  \n",
       "3                  0  \n",
       "4                  0  \n",
       "5                  0  \n",
       "6                  0  \n",
       "7                  0  \n",
       "8                  0  \n",
       "9                  0  \n",
       "10                 0  \n",
       "11                 0  \n",
       "12                 0  \n",
       "13                 0  \n",
       "14                 0  \n",
       "15                 0  \n",
       "16                 0  \n",
       "17                 0  \n",
       "18                 0  \n",
       "19                 0  \n",
       "20                 0  \n",
       "21                 0  \n",
       "22                 0  \n",
       "23                 0  \n",
       "24                 0  \n",
       "25                 0  \n",
       "26                 0  \n",
       "27                 0  \n",
       "28                 0  \n",
       "29                 0  \n",
       "...              ...  \n",
       "12564551           0  \n",
       "12564552           0  \n",
       "12564553           0  \n",
       "12564554           0  \n",
       "12564555           0  \n",
       "12564556           0  \n",
       "12564557           0  \n",
       "12564558           0  \n",
       "12564559           0  \n",
       "12564560           0  \n",
       "12564561           0  \n",
       "12564562           0  \n",
       "12564563           0  \n",
       "12564564           0  \n",
       "12564565           0  \n",
       "12564566           0  \n",
       "12564567           0  \n",
       "12564568           0  \n",
       "12564569           0  \n",
       "12564570           0  \n",
       "12564571           0  \n",
       "12564572           0  \n",
       "12564573           0  \n",
       "12564574           0  \n",
       "12564575           0  \n",
       "12564576           0  \n",
       "12564577           0  \n",
       "12564578           0  \n",
       "12564579           0  \n",
       "12564580           0  \n",
       "\n",
       "[12564581 rows x 7 columns]"
      ]
     },
     "execution_count": 77,
     "metadata": {},
     "output_type": "execute_result"
    }
   ],
   "source": [
    "nan_adjusted['listing_id'].count()/1000\n",
    "nan_adjusted.drop(columns=['level_0'], inplace=True)\n",
    "nan_adjusted.drop(columns=['index'], inplace=True)\n",
    "nan_adjusted.reset_index(inplace=True)\n",
    "\n",
    "nan_adjusted"
   ]
  },
  {
   "cell_type": "code",
   "execution_count": 139,
   "metadata": {
    "scrolled": true
   },
   "outputs": [],
   "source": [
    "# i=\n",
    "\n",
    "# nan_adjusted.iloc[i]['price_diff'] = nan_adjusted.iloc[i]['price'] - mean_df.iloc[nan_adjusted.iloc[i]['listing_id']]['price']\n",
    "# print(nan_adjusted.iloc[i]['price_diff']) \n",
    "\n"
   ]
  },
  {
   "cell_type": "code",
   "execution_count": 22,
   "metadata": {},
   "outputs": [],
   "source": [
    "# for i in range(0,729):\n",
    "#     nan_adjusted.iloc[i]['price_diff'] = nan_adjusted.iloc[i]['price'] - mean_df.iloc[nan_adjusted.iloc[i]['listing_id']]['price']\n",
    "    \n",
    "    "
   ]
  },
  {
   "cell_type": "code",
   "execution_count": 80,
   "metadata": {},
   "outputs": [
    {
     "data": {
      "text/html": [
       "<div>\n",
       "<style scoped>\n",
       "    .dataframe tbody tr th:only-of-type {\n",
       "        vertical-align: middle;\n",
       "    }\n",
       "\n",
       "    .dataframe tbody tr th {\n",
       "        vertical-align: top;\n",
       "    }\n",
       "\n",
       "    .dataframe thead th {\n",
       "        text-align: right;\n",
       "    }\n",
       "</style>\n",
       "<table border=\"1\" class=\"dataframe\">\n",
       "  <thead>\n",
       "    <tr style=\"text-align: right;\">\n",
       "      <th></th>\n",
       "      <th>listing_id</th>\n",
       "      <th>price</th>\n",
       "    </tr>\n",
       "  </thead>\n",
       "  <tbody>\n",
       "    <tr>\n",
       "      <th>0</th>\n",
       "      <td>3353</td>\n",
       "      <td>43.536842</td>\n",
       "    </tr>\n",
       "    <tr>\n",
       "      <th>1</th>\n",
       "      <td>3781</td>\n",
       "      <td>135.652268</td>\n",
       "    </tr>\n",
       "    <tr>\n",
       "      <th>2</th>\n",
       "      <td>5453</td>\n",
       "      <td>150.000000</td>\n",
       "    </tr>\n",
       "    <tr>\n",
       "      <th>3</th>\n",
       "      <td>5506</td>\n",
       "      <td>145.820660</td>\n",
       "    </tr>\n",
       "    <tr>\n",
       "      <th>4</th>\n",
       "      <td>6695</td>\n",
       "      <td>173.765442</td>\n",
       "    </tr>\n",
       "  </tbody>\n",
       "</table>\n",
       "</div>"
      ],
      "text/plain": [
       "   listing_id       price\n",
       "0        3353   43.536842\n",
       "1        3781  135.652268\n",
       "2        5453  150.000000\n",
       "3        5506  145.820660\n",
       "4        6695  173.765442"
      ]
     },
     "execution_count": 80,
     "metadata": {},
     "output_type": "execute_result"
    }
   ],
   "source": [
    "# Subset dataframe of averages for left-merge\n",
    "mean_df_new = mean_df[['listing_id','price']]\n",
    "mean_df_new.head()"
   ]
  },
  {
   "cell_type": "code",
   "execution_count": 81,
   "metadata": {},
   "outputs": [
    {
     "data": {
      "text/html": [
       "<div>\n",
       "<style scoped>\n",
       "    .dataframe tbody tr th:only-of-type {\n",
       "        vertical-align: middle;\n",
       "    }\n",
       "\n",
       "    .dataframe tbody tr th {\n",
       "        vertical-align: top;\n",
       "    }\n",
       "\n",
       "    .dataframe thead th {\n",
       "        text-align: right;\n",
       "    }\n",
       "</style>\n",
       "<table border=\"1\" class=\"dataframe\">\n",
       "  <thead>\n",
       "    <tr style=\"text-align: right;\">\n",
       "      <th></th>\n",
       "      <th>index</th>\n",
       "      <th>adjusted_price</th>\n",
       "      <th>date</th>\n",
       "      <th>listing_id</th>\n",
       "      <th>price_x</th>\n",
       "      <th>log_price</th>\n",
       "      <th>price_diff</th>\n",
       "      <th>price_y</th>\n",
       "    </tr>\n",
       "  </thead>\n",
       "  <tbody>\n",
       "    <tr>\n",
       "      <th>0</th>\n",
       "      <td>0</td>\n",
       "      <td>NaN</td>\n",
       "      <td>2019-10-29</td>\n",
       "      <td>21253564</td>\n",
       "      <td>36.0</td>\n",
       "      <td>3.583519</td>\n",
       "      <td>0</td>\n",
       "      <td>36.000000</td>\n",
       "    </tr>\n",
       "    <tr>\n",
       "      <th>1</th>\n",
       "      <td>1</td>\n",
       "      <td>NaN</td>\n",
       "      <td>2019-02-13</td>\n",
       "      <td>10542140</td>\n",
       "      <td>350.0</td>\n",
       "      <td>5.857933</td>\n",
       "      <td>0</td>\n",
       "      <td>341.440802</td>\n",
       "    </tr>\n",
       "    <tr>\n",
       "      <th>2</th>\n",
       "      <td>2</td>\n",
       "      <td>$64.00</td>\n",
       "      <td>2019-10-08</td>\n",
       "      <td>31101954</td>\n",
       "      <td>64.0</td>\n",
       "      <td>4.158883</td>\n",
       "      <td>0</td>\n",
       "      <td>59.719178</td>\n",
       "    </tr>\n",
       "    <tr>\n",
       "      <th>3</th>\n",
       "      <td>3</td>\n",
       "      <td>NaN</td>\n",
       "      <td>2018-07-02</td>\n",
       "      <td>21796886</td>\n",
       "      <td>674.0</td>\n",
       "      <td>6.513230</td>\n",
       "      <td>0</td>\n",
       "      <td>441.496583</td>\n",
       "    </tr>\n",
       "    <tr>\n",
       "      <th>4</th>\n",
       "      <td>4</td>\n",
       "      <td>NaN</td>\n",
       "      <td>2018-08-27</td>\n",
       "      <td>26122149</td>\n",
       "      <td>560.0</td>\n",
       "      <td>6.327937</td>\n",
       "      <td>0</td>\n",
       "      <td>524.989544</td>\n",
       "    </tr>\n",
       "  </tbody>\n",
       "</table>\n",
       "</div>"
      ],
      "text/plain": [
       "   index adjusted_price        date  listing_id  price_x  log_price  \\\n",
       "0      0            NaN  2019-10-29    21253564     36.0   3.583519   \n",
       "1      1            NaN  2019-02-13    10542140    350.0   5.857933   \n",
       "2      2         $64.00  2019-10-08    31101954     64.0   4.158883   \n",
       "3      3            NaN  2018-07-02    21796886    674.0   6.513230   \n",
       "4      4            NaN  2018-08-27    26122149    560.0   6.327937   \n",
       "\n",
       "   price_diff     price_y  \n",
       "0           0   36.000000  \n",
       "1           0  341.440802  \n",
       "2           0   59.719178  \n",
       "3           0  441.496583  \n",
       "4           0  524.989544  "
      ]
     },
     "execution_count": 81,
     "metadata": {},
     "output_type": "execute_result"
    }
   ],
   "source": [
    "# Left-Merge\n",
    "new = nan_adjusted.merge(mean_df_new,how='left', left_on='listing_id', right_on='listing_id')\n",
    "new.head()"
   ]
  },
  {
   "cell_type": "code",
   "execution_count": 82,
   "metadata": {},
   "outputs": [
    {
     "data": {
      "text/html": [
       "<div>\n",
       "<style scoped>\n",
       "    .dataframe tbody tr th:only-of-type {\n",
       "        vertical-align: middle;\n",
       "    }\n",
       "\n",
       "    .dataframe tbody tr th {\n",
       "        vertical-align: top;\n",
       "    }\n",
       "\n",
       "    .dataframe thead th {\n",
       "        text-align: right;\n",
       "    }\n",
       "</style>\n",
       "<table border=\"1\" class=\"dataframe\">\n",
       "  <thead>\n",
       "    <tr style=\"text-align: right;\">\n",
       "      <th></th>\n",
       "      <th>index</th>\n",
       "      <th>adjusted_price</th>\n",
       "      <th>date</th>\n",
       "      <th>listing_id</th>\n",
       "      <th>price_x</th>\n",
       "      <th>log_price</th>\n",
       "      <th>price_diff</th>\n",
       "      <th>price_y</th>\n",
       "    </tr>\n",
       "  </thead>\n",
       "  <tbody>\n",
       "    <tr>\n",
       "      <th>0</th>\n",
       "      <td>0</td>\n",
       "      <td>NaN</td>\n",
       "      <td>2019-10-29</td>\n",
       "      <td>21253564</td>\n",
       "      <td>36.0</td>\n",
       "      <td>3.583519</td>\n",
       "      <td>0.000000</td>\n",
       "      <td>36.000000</td>\n",
       "    </tr>\n",
       "    <tr>\n",
       "      <th>1</th>\n",
       "      <td>1</td>\n",
       "      <td>NaN</td>\n",
       "      <td>2019-02-13</td>\n",
       "      <td>10542140</td>\n",
       "      <td>350.0</td>\n",
       "      <td>5.857933</td>\n",
       "      <td>8.559198</td>\n",
       "      <td>341.440802</td>\n",
       "    </tr>\n",
       "    <tr>\n",
       "      <th>2</th>\n",
       "      <td>2</td>\n",
       "      <td>$64.00</td>\n",
       "      <td>2019-10-08</td>\n",
       "      <td>31101954</td>\n",
       "      <td>64.0</td>\n",
       "      <td>4.158883</td>\n",
       "      <td>4.280822</td>\n",
       "      <td>59.719178</td>\n",
       "    </tr>\n",
       "    <tr>\n",
       "      <th>3</th>\n",
       "      <td>3</td>\n",
       "      <td>NaN</td>\n",
       "      <td>2018-07-02</td>\n",
       "      <td>21796886</td>\n",
       "      <td>674.0</td>\n",
       "      <td>6.513230</td>\n",
       "      <td>232.503417</td>\n",
       "      <td>441.496583</td>\n",
       "    </tr>\n",
       "    <tr>\n",
       "      <th>4</th>\n",
       "      <td>4</td>\n",
       "      <td>NaN</td>\n",
       "      <td>2018-08-27</td>\n",
       "      <td>26122149</td>\n",
       "      <td>560.0</td>\n",
       "      <td>6.327937</td>\n",
       "      <td>35.010456</td>\n",
       "      <td>524.989544</td>\n",
       "    </tr>\n",
       "  </tbody>\n",
       "</table>\n",
       "</div>"
      ],
      "text/plain": [
       "   index adjusted_price        date  listing_id  price_x  log_price  \\\n",
       "0      0            NaN  2019-10-29    21253564     36.0   3.583519   \n",
       "1      1            NaN  2019-02-13    10542140    350.0   5.857933   \n",
       "2      2         $64.00  2019-10-08    31101954     64.0   4.158883   \n",
       "3      3            NaN  2018-07-02    21796886    674.0   6.513230   \n",
       "4      4            NaN  2018-08-27    26122149    560.0   6.327937   \n",
       "\n",
       "   price_diff     price_y  \n",
       "0    0.000000   36.000000  \n",
       "1    8.559198  341.440802  \n",
       "2    4.280822   59.719178  \n",
       "3  232.503417  441.496583  \n",
       "4   35.010456  524.989544  "
      ]
     },
     "execution_count": 82,
     "metadata": {},
     "output_type": "execute_result"
    }
   ],
   "source": [
    "# Compute price differences \n",
    "new['price_diff'] = new['price_x'] - new['price_y']\n",
    "new.head()"
   ]
  },
  {
   "cell_type": "code",
   "execution_count": 83,
   "metadata": {},
   "outputs": [],
   "source": [
    "# Convert dates to datetime\n",
    "final = new.groupby(['date'], as_index = False)\n",
    "\n",
    "dates = pd.to_datetime(new['date'].values)\n"
   ]
  },
  {
   "cell_type": "code",
   "execution_count": 84,
   "metadata": {},
   "outputs": [],
   "source": [
    "# Add new datetime object\n",
    "new['datetime'] = dates\n"
   ]
  },
  {
   "cell_type": "code",
   "execution_count": 85,
   "metadata": {},
   "outputs": [
    {
     "data": {
      "text/html": [
       "<div>\n",
       "<style scoped>\n",
       "    .dataframe tbody tr th:only-of-type {\n",
       "        vertical-align: middle;\n",
       "    }\n",
       "\n",
       "    .dataframe tbody tr th {\n",
       "        vertical-align: top;\n",
       "    }\n",
       "\n",
       "    .dataframe thead th {\n",
       "        text-align: right;\n",
       "    }\n",
       "</style>\n",
       "<table border=\"1\" class=\"dataframe\">\n",
       "  <thead>\n",
       "    <tr style=\"text-align: right;\">\n",
       "      <th></th>\n",
       "      <th>datetime</th>\n",
       "      <th>price_diff</th>\n",
       "      <th>price_x</th>\n",
       "      <th>price_y</th>\n",
       "    </tr>\n",
       "  </thead>\n",
       "  <tbody>\n",
       "    <tr>\n",
       "      <th>0</th>\n",
       "      <td>2015-10-02</td>\n",
       "      <td>7.371864</td>\n",
       "      <td>36.0</td>\n",
       "      <td>36.0</td>\n",
       "    </tr>\n",
       "    <tr>\n",
       "      <th>1</th>\n",
       "      <td>2015-10-03</td>\n",
       "      <td>16.953006</td>\n",
       "      <td>350.0</td>\n",
       "      <td>350.0</td>\n",
       "    </tr>\n",
       "    <tr>\n",
       "      <th>2</th>\n",
       "      <td>2015-10-04</td>\n",
       "      <td>3.833924</td>\n",
       "      <td>64.0</td>\n",
       "      <td>64.0</td>\n",
       "    </tr>\n",
       "    <tr>\n",
       "      <th>3</th>\n",
       "      <td>2015-10-05</td>\n",
       "      <td>-0.415049</td>\n",
       "      <td>674.0</td>\n",
       "      <td>674.0</td>\n",
       "    </tr>\n",
       "    <tr>\n",
       "      <th>4</th>\n",
       "      <td>2015-10-06</td>\n",
       "      <td>0.293709</td>\n",
       "      <td>560.0</td>\n",
       "      <td>560.0</td>\n",
       "    </tr>\n",
       "  </tbody>\n",
       "</table>\n",
       "</div>"
      ],
      "text/plain": [
       "    datetime  price_diff  price_x  price_y\n",
       "0 2015-10-02    7.371864     36.0     36.0\n",
       "1 2015-10-03   16.953006    350.0    350.0\n",
       "2 2015-10-04    3.833924     64.0     64.0\n",
       "3 2015-10-05   -0.415049    674.0    674.0\n",
       "4 2015-10-06    0.293709    560.0    560.0"
      ]
     },
     "execution_count": 85,
     "metadata": {},
     "output_type": "execute_result"
    }
   ],
   "source": [
    "# Groupby datetime, get average price difference\n",
    "final = new.groupby(['datetime'], as_index = False)\n",
    "final_sums = final['price_diff'].mean()\n",
    "final_sums['price_x'] = new['price_x']\n",
    "final_sums['price_y'] = new['price_x']\n",
    "\n",
    "final_sums.head()"
   ]
  },
  {
   "cell_type": "markdown",
   "metadata": {},
   "source": [
    "\n"
   ]
  },
  {
   "cell_type": "code",
   "execution_count": null,
   "metadata": {},
   "outputs": [],
   "source": [
    "\n"
   ]
  },
  {
   "cell_type": "code",
   "execution_count": 86,
   "metadata": {},
   "outputs": [
    {
     "data": {
      "text/plain": [
       "Text(0.5, 1.0, 'Days When List Price Exceeded Average List Price for Individual AirBnbs')"
      ]
     },
     "execution_count": 86,
     "metadata": {},
     "output_type": "execute_result"
    },
    {
     "data": {
      "image/png": "[encoded data removed]",
      "text/plain": [
       "<Figure size 756x756 with 1 Axes>"
      ]
     },
     "metadata": {
      "needs_background": "light"
     },
     "output_type": "display_data"
    }
   ],
   "source": [
    "import matplotlib\n",
    "import matplotlib.pyplot as plt\n",
    "import numpy as np\n",
    "# Examine overall price difference trend\n",
    "final_sums['month_year'] = final_sums['datetime'].dt.to_period('12M')\n",
    "fig, ax = plt.subplots()\n",
    "fig.set_size_inches(10.5, 10.5, forward=True)\n",
    "\n",
    "ax.plot(final_sums['datetime'],final_sums['price_diff'])\n",
    "# ax.set_xticklabels(final_sums['month_year'] )\n",
    "ax.set_xlabel('Date')\n",
    "ax.set_ylabel('Avg Price Difference')\n",
    "ax.set_title('Days When List Price Exceeded Average List Price for Individual AirBnbs')\n"
   ]
  },
  {
   "cell_type": "code",
   "execution_count": null,
   "metadata": {},
   "outputs": [],
   "source": []
  },
  {
   "cell_type": "code",
   "execution_count": 87,
   "metadata": {},
   "outputs": [],
   "source": [
    "# Subset the data for easier viewing \n",
    "final_sums['month_year'] = final_sums['datetime'].dt.to_period('12M')\n",
    "\n",
    "fall = final_sums[((final_sums['month_year'] >= '2018-09') & (final_sums['month_year'] <= '2018-12'))] \n",
    "winter = final_sums[((final_sums['month_year'] >= '2018-12') | (final_sums['month_year'] <= '2018-03') & (final_sums['month_year'] >='2018-01') & (final_sums['month_year'] <='2019-01'))] \n",
    "spring = final_sums[((final_sums['month_year'] >= '2018-03') & (final_sums['month_year'] <= '2018-06'))] \n",
    "summer = final_sums[((final_sums['month_year'] >= '2018-06') & (final_sums['month_year'] <= '2018-09'))] "
   ]
  },
  {
   "cell_type": "code",
   "execution_count": null,
   "metadata": {},
   "outputs": [],
   "source": []
  },
  {
   "cell_type": "code",
   "execution_count": 88,
   "metadata": {},
   "outputs": [
    {
     "name": "stderr",
     "output_type": "stream",
     "text": [
      "/anaconda2/lib/python3.7/site-packages/ipykernel_launcher.py:3: SettingWithCopyWarning: \n",
      "A value is trying to be set on a copy of a slice from a DataFrame.\n",
      "Try using .loc[row_indexer,col_indexer] = value instead\n",
      "\n",
      "See the caveats in the documentation: http://pandas.pydata.org/pandas-docs/stable/indexing.html#indexing-view-versus-copy\n",
      "  This is separate from the ipykernel package so we can avoid doing imports until\n"
     ]
    },
    {
     "data": {
      "text/plain": [
       "<PeriodArray>\n",
       "['2018-09', '2018-10', '2018-11', '2018-12']\n",
       "Length: 4, dtype: period[12M]"
      ]
     },
     "execution_count": 88,
     "metadata": {},
     "output_type": "execute_result"
    },
    {
     "data": {
      "image/png": "[encoded data removed]",
      "text/plain": [
       "<Figure size 900x756 with 1 Axes>"
      ]
     },
     "metadata": {
      "needs_background": "light"
     },
     "output_type": "display_data"
    }
   ],
   "source": [
    "fig, ax = plt.subplots()\n",
    "fig.set_size_inches(12.5, 10.5, forward=True)\n",
    "fall['month_year'] = fall['datetime'].dt.to_period('12M')\n",
    "\n",
    "ax.plot(fall['datetime'],fall['price_diff'])\n",
    "#ax.set_xticklabels(fall['datetime'].dt.to_period('2M'))\n",
    "\n",
    "fall['month_year'].unique()"
   ]
  },
  {
   "cell_type": "code",
   "execution_count": 89,
   "metadata": {},
   "outputs": [
    {
     "name": "stderr",
     "output_type": "stream",
     "text": [
      "/anaconda2/lib/python3.7/site-packages/ipykernel_launcher.py:13: SettingWithCopyWarning: \n",
      "A value is trying to be set on a copy of a slice from a DataFrame.\n",
      "Try using .loc[row_indexer,col_indexer] = value instead\n",
      "\n",
      "See the caveats in the documentation: http://pandas.pydata.org/pandas-docs/stable/indexing.html#indexing-view-versus-copy\n",
      "  del sys.path[0]\n"
     ]
    },
    {
     "data": {
      "text/plain": [
       "<PeriodArray>\n",
       "['2018-01', '2018-02', '2018-03', '2018-12', '2019-01', '2019-02', '2019-03',\n",
       " '2019-04', '2019-05', '2019-06', '2019-07', '2019-08', '2019-09', '2019-10',\n",
       " '2019-11', '2019-12', '2020-01', '2020-02']\n",
       "Length: 18, dtype: period[12M]"
      ]
     },
     "execution_count": 89,
     "metadata": {},
     "output_type": "execute_result"
    },
    {
     "data": {
      "image/png": "[encoded data removed]",
      "text/plain": [
       "<Figure size 900x756 with 1 Axes>"
      ]
     },
     "metadata": {
      "needs_background": "light"
     },
     "output_type": "display_data"
    }
   ],
   "source": [
    "# WINTER \n",
    "# fig, ax = plt.subplots()\n",
    "# fig.set_size_inches(12.5, 10.5, forward=True)\n",
    "# fall['month_year'] = fall['datetime'].dt.to_period('12M')\n",
    "\n",
    "# ax.plot(fall['datetime'],fall['price_diff'])\n",
    "# ax.set_xticklabels(fall['month_year'])\n",
    "\n",
    "# fall['month_year'].unique()\n",
    "\n",
    "fig, ax = plt.subplots()\n",
    "fig.set_size_inches(12.5, 10.5, forward=True)\n",
    "winter['month_year'] = winter['datetime'].dt.to_period('12M')\n",
    "\n",
    "\n",
    "ax.plot(winter['datetime'],winter['price_diff'])\n",
    "\n",
    "# ax.set_xticklabels(winter['month_year'])\n",
    "ax.set_xlabel('Date')\n",
    "ax.set_ylabel('Avg Price Difference')\n",
    "ax.set_title('Average Price Difference in Winter')\n",
    "winter['month_year'].unique()"
   ]
  },
  {
   "cell_type": "code",
   "execution_count": 90,
   "metadata": {},
   "outputs": [
    {
     "name": "stderr",
     "output_type": "stream",
     "text": [
      "/anaconda2/lib/python3.7/site-packages/ipykernel_launcher.py:4: SettingWithCopyWarning: \n",
      "A value is trying to be set on a copy of a slice from a DataFrame.\n",
      "Try using .loc[row_indexer,col_indexer] = value instead\n",
      "\n",
      "See the caveats in the documentation: http://pandas.pydata.org/pandas-docs/stable/indexing.html#indexing-view-versus-copy\n",
      "  after removing the cwd from sys.path.\n"
     ]
    },
    {
     "data": {
      "text/plain": [
       "<PeriodArray>\n",
       "['2018-06', '2018-07', '2018-08', '2018-09']\n",
       "Length: 4, dtype: period[12M]"
      ]
     },
     "execution_count": 90,
     "metadata": {},
     "output_type": "execute_result"
    },
    {
     "data": {
      "image/png": "[encoded data removed]",
      "text/plain": [
       "<Figure size 900x756 with 1 Axes>"
      ]
     },
     "metadata": {
      "needs_background": "light"
     },
     "output_type": "display_data"
    }
   ],
   "source": [
    "# SUMMER \n",
    "fig, ax = plt.subplots()\n",
    "fig.set_size_inches(12.5, 10.5, forward=True)\n",
    "summer['month_year'] = summer['datetime'].dt.to_period('12M')\n",
    "\n",
    "ax.plot(summer['datetime'],summer['price_diff'])\n",
    "ax.set_xticklabels(summer['month_year'])\n",
    "\n",
    "summer['month_year'].unique()\n",
    "\n",
    "\n",
    "# fig, ax = plt.subplots()\n",
    "# ax.plot(summer['datetime'],summer['price_diff'])\n",
    "# ax.set_xticklabels(summer['datetime'])\n",
    "# ax.set_xlabel('Date')\n",
    "# ax.set_ylabel('Avg Price Difference')\n",
    "# ax.set_title('Average Price Difference in Summer')"
   ]
  },
  {
   "cell_type": "code",
   "execution_count": 91,
   "metadata": {},
   "outputs": [
    {
     "data": {
      "text/plain": [
       "<PeriodArray>\n",
       "['2018-09', '2018-10', '2018-11', '2018-12']\n",
       "Length: 4, dtype: period[12M]"
      ]
     },
     "execution_count": 91,
     "metadata": {},
     "output_type": "execute_result"
    },
    {
     "data": {
      "image/png": "[encoded data removed]",
      "text/plain": [
       "<Figure size 900x756 with 1 Axes>"
      ]
     },
     "metadata": {
      "needs_background": "light"
     },
     "output_type": "display_data"
    }
   ],
   "source": [
    "#FALL\n",
    "\n",
    "fig, ax = plt.subplots()\n",
    "fig.set_size_inches(12.5, 10.5, forward=True)\n",
    "\n",
    "ax.plot(fall['datetime'],fall['price_diff'])\n",
    "ax.set_xticklabels(fall['datetime'].dt.to_period('12M'))\n",
    "ax.set_xlabel('Date')\n",
    "ax.set_ylabel('Avg Price Difference')\n",
    "ax.set_title('Average Price Difference in Fall')\n",
    "fall['month_year'].unique()\n"
   ]
  },
  {
   "cell_type": "code",
   "execution_count": 92,
   "metadata": {},
   "outputs": [
    {
     "data": {
      "text/plain": [
       "<PeriodArray>\n",
       "['2018-03', '2018-04', '2018-05', '2018-06']\n",
       "Length: 4, dtype: period[12M]"
      ]
     },
     "execution_count": 92,
     "metadata": {},
     "output_type": "execute_result"
    },
    {
     "data": {
      "image/png": "[encoded data removed]",
      "text/plain": [
       "<Figure size 900x756 with 1 Axes>"
      ]
     },
     "metadata": {
      "needs_background": "light"
     },
     "output_type": "display_data"
    }
   ],
   "source": [
    "# SPRING\n",
    "\n",
    "fig, ax = plt.subplots()\n",
    "fig.set_size_inches(12.5, 10.5, forward=True)\n",
    "\n",
    "ax.plot(spring['datetime'],spring['price_diff'])\n",
    "ax.set_xticklabels(spring['datetime'].dt.to_period('12M'))\n",
    "ax.set_xlabel('Date')\n",
    "ax.set_ylabel('Avg Price Difference')\n",
    "ax.set_title('Average Price Difference in Spring')\n",
    "spring['month_year'].unique()\n"
   ]
  },
  {
   "cell_type": "code",
   "execution_count": 93,
   "metadata": {},
   "outputs": [
    {
     "data": {
      "text/html": [
       "<div>\n",
       "<style scoped>\n",
       "    .dataframe tbody tr th:only-of-type {\n",
       "        vertical-align: middle;\n",
       "    }\n",
       "\n",
       "    .dataframe tbody tr th {\n",
       "        vertical-align: top;\n",
       "    }\n",
       "\n",
       "    .dataframe thead th {\n",
       "        text-align: right;\n",
       "    }\n",
       "</style>\n",
       "<table border=\"1\" class=\"dataframe\">\n",
       "  <thead>\n",
       "    <tr style=\"text-align: right;\">\n",
       "      <th></th>\n",
       "      <th>datetime</th>\n",
       "      <th>price_diff</th>\n",
       "      <th>price_x</th>\n",
       "      <th>price_y</th>\n",
       "      <th>month_year</th>\n",
       "    </tr>\n",
       "  </thead>\n",
       "  <tbody>\n",
       "    <tr>\n",
       "      <th>0</th>\n",
       "      <td>2015-10-02</td>\n",
       "      <td>7.371864</td>\n",
       "      <td>36.0</td>\n",
       "      <td>36.0</td>\n",
       "      <td>2015-10</td>\n",
       "    </tr>\n",
       "    <tr>\n",
       "      <th>1</th>\n",
       "      <td>2015-10-03</td>\n",
       "      <td>16.953006</td>\n",
       "      <td>350.0</td>\n",
       "      <td>350.0</td>\n",
       "      <td>2015-10</td>\n",
       "    </tr>\n",
       "    <tr>\n",
       "      <th>2</th>\n",
       "      <td>2015-10-04</td>\n",
       "      <td>3.833924</td>\n",
       "      <td>64.0</td>\n",
       "      <td>64.0</td>\n",
       "      <td>2015-10</td>\n",
       "    </tr>\n",
       "    <tr>\n",
       "      <th>3</th>\n",
       "      <td>2015-10-05</td>\n",
       "      <td>-0.415049</td>\n",
       "      <td>674.0</td>\n",
       "      <td>674.0</td>\n",
       "      <td>2015-10</td>\n",
       "    </tr>\n",
       "    <tr>\n",
       "      <th>4</th>\n",
       "      <td>2015-10-06</td>\n",
       "      <td>0.293709</td>\n",
       "      <td>560.0</td>\n",
       "      <td>560.0</td>\n",
       "      <td>2015-10</td>\n",
       "    </tr>\n",
       "  </tbody>\n",
       "</table>\n",
       "</div>"
      ],
      "text/plain": [
       "    datetime  price_diff  price_x  price_y month_year\n",
       "0 2015-10-02    7.371864     36.0     36.0    2015-10\n",
       "1 2015-10-03   16.953006    350.0    350.0    2015-10\n",
       "2 2015-10-04    3.833924     64.0     64.0    2015-10\n",
       "3 2015-10-05   -0.415049    674.0    674.0    2015-10\n",
       "4 2015-10-06    0.293709    560.0    560.0    2015-10"
      ]
     },
     "execution_count": 93,
     "metadata": {},
     "output_type": "execute_result"
    }
   ],
   "source": [
    "data=final_sums\n",
    "data['month_year'] = data['datetime'].dt.to_period('12M')\n",
    "# data = data[~(data['month_year'] <= '2017-10')]  \n",
    "baseData=[]\n",
    "baseData=data\n",
    "data.head()"
   ]
  },
  {
   "cell_type": "code",
   "execution_count": 94,
   "metadata": {},
   "outputs": [
    {
     "data": {
      "text/html": [
       "<div>\n",
       "<style scoped>\n",
       "    .dataframe tbody tr th:only-of-type {\n",
       "        vertical-align: middle;\n",
       "    }\n",
       "\n",
       "    .dataframe tbody tr th {\n",
       "        vertical-align: top;\n",
       "    }\n",
       "\n",
       "    .dataframe thead th {\n",
       "        text-align: right;\n",
       "    }\n",
       "</style>\n",
       "<table border=\"1\" class=\"dataframe\">\n",
       "  <thead>\n",
       "    <tr style=\"text-align: right;\">\n",
       "      <th></th>\n",
       "      <th>datetime</th>\n",
       "      <th>price_diff</th>\n",
       "      <th>price_x</th>\n",
       "      <th>price_y</th>\n",
       "      <th>month_year</th>\n",
       "    </tr>\n",
       "  </thead>\n",
       "  <tbody>\n",
       "    <tr>\n",
       "      <th>0</th>\n",
       "      <td>2015-10-02</td>\n",
       "      <td>7.371864</td>\n",
       "      <td>36.0</td>\n",
       "      <td>36.0</td>\n",
       "      <td>2015-10</td>\n",
       "    </tr>\n",
       "    <tr>\n",
       "      <th>1</th>\n",
       "      <td>2015-10-03</td>\n",
       "      <td>16.953006</td>\n",
       "      <td>350.0</td>\n",
       "      <td>350.0</td>\n",
       "      <td>2015-10</td>\n",
       "    </tr>\n",
       "    <tr>\n",
       "      <th>2</th>\n",
       "      <td>2015-10-04</td>\n",
       "      <td>3.833924</td>\n",
       "      <td>64.0</td>\n",
       "      <td>64.0</td>\n",
       "      <td>2015-10</td>\n",
       "    </tr>\n",
       "    <tr>\n",
       "      <th>3</th>\n",
       "      <td>2015-10-05</td>\n",
       "      <td>-0.415049</td>\n",
       "      <td>674.0</td>\n",
       "      <td>674.0</td>\n",
       "      <td>2015-10</td>\n",
       "    </tr>\n",
       "    <tr>\n",
       "      <th>4</th>\n",
       "      <td>2015-10-06</td>\n",
       "      <td>0.293709</td>\n",
       "      <td>560.0</td>\n",
       "      <td>560.0</td>\n",
       "      <td>2015-10</td>\n",
       "    </tr>\n",
       "  </tbody>\n",
       "</table>\n",
       "</div>"
      ],
      "text/plain": [
       "    datetime  price_diff  price_x  price_y month_year\n",
       "0 2015-10-02    7.371864     36.0     36.0    2015-10\n",
       "1 2015-10-03   16.953006    350.0    350.0    2015-10\n",
       "2 2015-10-04    3.833924     64.0     64.0    2015-10\n",
       "3 2015-10-05   -0.415049    674.0    674.0    2015-10\n",
       "4 2015-10-06    0.293709    560.0    560.0    2015-10"
      ]
     },
     "execution_count": 94,
     "metadata": {},
     "output_type": "execute_result"
    }
   ],
   "source": [
    "data=baseData\n",
    "data.head()"
   ]
  },
  {
   "cell_type": "code",
   "execution_count": 95,
   "metadata": {},
   "outputs": [],
   "source": [
    "# final_sums.drop(columns=['maximum_nights'], inplace=True)\n"
   ]
  },
  {
   "cell_type": "markdown",
   "metadata": {},
   "source": [
    "## KNN regression method"
   ]
  },
  {
   "cell_type": "code",
   "execution_count": 96,
   "metadata": {},
   "outputs": [],
   "source": [
    "from sklearn import neighbors\n",
    "from sklearn.metrics import mean_squared_error \n",
    "from math import sqrt"
   ]
  },
  {
   "cell_type": "code",
   "execution_count": 99,
   "metadata": {},
   "outputs": [
    {
     "data": {
      "text/html": [
       "<div>\n",
       "<style scoped>\n",
       "    .dataframe tbody tr th:only-of-type {\n",
       "        vertical-align: middle;\n",
       "    }\n",
       "\n",
       "    .dataframe tbody tr th {\n",
       "        vertical-align: top;\n",
       "    }\n",
       "\n",
       "    .dataframe thead th {\n",
       "        text-align: right;\n",
       "    }\n",
       "</style>\n",
       "<table border=\"1\" class=\"dataframe\">\n",
       "  <thead>\n",
       "    <tr style=\"text-align: right;\">\n",
       "      <th></th>\n",
       "      <th>datetime</th>\n",
       "      <th>price_diff</th>\n",
       "      <th>price_x</th>\n",
       "      <th>price_y</th>\n",
       "      <th>month_year</th>\n",
       "    </tr>\n",
       "  </thead>\n",
       "  <tbody>\n",
       "    <tr>\n",
       "      <th>0</th>\n",
       "      <td>2015-10-02</td>\n",
       "      <td>7.371864</td>\n",
       "      <td>36.0</td>\n",
       "      <td>36.0</td>\n",
       "      <td>2015-10</td>\n",
       "    </tr>\n",
       "    <tr>\n",
       "      <th>1</th>\n",
       "      <td>2015-10-03</td>\n",
       "      <td>16.953006</td>\n",
       "      <td>350.0</td>\n",
       "      <td>350.0</td>\n",
       "      <td>2015-10</td>\n",
       "    </tr>\n",
       "    <tr>\n",
       "      <th>2</th>\n",
       "      <td>2015-10-04</td>\n",
       "      <td>3.833924</td>\n",
       "      <td>64.0</td>\n",
       "      <td>64.0</td>\n",
       "      <td>2015-10</td>\n",
       "    </tr>\n",
       "    <tr>\n",
       "      <th>3</th>\n",
       "      <td>2015-10-05</td>\n",
       "      <td>-0.415049</td>\n",
       "      <td>674.0</td>\n",
       "      <td>674.0</td>\n",
       "      <td>2015-10</td>\n",
       "    </tr>\n",
       "    <tr>\n",
       "      <th>4</th>\n",
       "      <td>2015-10-06</td>\n",
       "      <td>0.293709</td>\n",
       "      <td>560.0</td>\n",
       "      <td>560.0</td>\n",
       "      <td>2015-10</td>\n",
       "    </tr>\n",
       "  </tbody>\n",
       "</table>\n",
       "</div>"
      ],
      "text/plain": [
       "    datetime  price_diff  price_x  price_y month_year\n",
       "0 2015-10-02    7.371864     36.0     36.0    2015-10\n",
       "1 2015-10-03   16.953006    350.0    350.0    2015-10\n",
       "2 2015-10-04    3.833924     64.0     64.0    2015-10\n",
       "3 2015-10-05   -0.415049    674.0    674.0    2015-10\n",
       "4 2015-10-06    0.293709    560.0    560.0    2015-10"
      ]
     },
     "execution_count": 99,
     "metadata": {},
     "output_type": "execute_result"
    }
   ],
   "source": [
    "final_sums=data\n",
    "data.head()"
   ]
  },
  {
   "cell_type": "code",
   "execution_count": 100,
   "metadata": {},
   "outputs": [
    {
     "data": {
      "text/plain": [
       "0        7.371864\n",
       "1       16.953006\n",
       "2        3.833924\n",
       "3       -0.415049\n",
       "4        0.293709\n",
       "5        1.433710\n",
       "6        3.003532\n",
       "7       16.448026\n",
       "8       16.925621\n",
       "9        5.378745\n",
       "10       0.445294\n",
       "11      -0.554857\n",
       "12       1.362756\n",
       "13       6.389248\n",
       "14      22.620100\n",
       "15      21.040866\n",
       "16      12.333424\n",
       "17       8.610631\n",
       "18       3.658602\n",
       "19       1.957913\n",
       "20       5.773305\n",
       "21      12.251260\n",
       "22      13.532268\n",
       "23      12.890368\n",
       "24       9.000800\n",
       "25       8.101718\n",
       "26       8.951607\n",
       "27       7.751535\n",
       "28       9.741176\n",
       "29      10.049663\n",
       "          ...    \n",
       "1531    20.659862\n",
       "1532    21.304113\n",
       "1533    13.959169\n",
       "1534    13.621723\n",
       "1535    13.749606\n",
       "1536    14.136479\n",
       "1537    14.861442\n",
       "1538    20.829870\n",
       "1539    20.818173\n",
       "1540    14.080723\n",
       "1541    14.065939\n",
       "1542    13.733688\n",
       "1543    13.739700\n",
       "1544    14.126865\n",
       "1545    20.466588\n",
       "1546    20.431820\n",
       "1547    13.824021\n",
       "1548    13.673412\n",
       "1549    13.719391\n",
       "1550    13.784704\n",
       "1551    14.161633\n",
       "1552    20.565045\n",
       "1553    24.455541\n",
       "1554    17.458952\n",
       "1555    20.674712\n",
       "1556    21.516467\n",
       "1557    20.940350\n",
       "1558    22.246442\n",
       "1559    30.204688\n",
       "1560    28.790715\n",
       "Name: price_diff, Length: 1561, dtype: float64"
      ]
     },
     "execution_count": 100,
     "metadata": {},
     "output_type": "execute_result"
    }
   ],
   "source": [
    " y = final_sums['price_diff']\n",
    "y"
   ]
  },
  {
   "cell_type": "code",
   "execution_count": 101,
   "metadata": {},
   "outputs": [
    {
     "data": {
      "text/html": [
       "<div>\n",
       "<style scoped>\n",
       "    .dataframe tbody tr th:only-of-type {\n",
       "        vertical-align: middle;\n",
       "    }\n",
       "\n",
       "    .dataframe tbody tr th {\n",
       "        vertical-align: top;\n",
       "    }\n",
       "\n",
       "    .dataframe thead th {\n",
       "        text-align: right;\n",
       "    }\n",
       "</style>\n",
       "<table border=\"1\" class=\"dataframe\">\n",
       "  <thead>\n",
       "    <tr style=\"text-align: right;\">\n",
       "      <th></th>\n",
       "      <th>index</th>\n",
       "      <th>datetime</th>\n",
       "      <th>price_diff</th>\n",
       "      <th>price_x</th>\n",
       "      <th>price_y</th>\n",
       "      <th>month_year</th>\n",
       "    </tr>\n",
       "  </thead>\n",
       "  <tbody>\n",
       "    <tr>\n",
       "      <th>0</th>\n",
       "      <td>0</td>\n",
       "      <td>2015-10-02</td>\n",
       "      <td>7.371864</td>\n",
       "      <td>36.0</td>\n",
       "      <td>36.0</td>\n",
       "      <td>2015-10</td>\n",
       "    </tr>\n",
       "    <tr>\n",
       "      <th>1</th>\n",
       "      <td>1</td>\n",
       "      <td>2015-10-03</td>\n",
       "      <td>16.953006</td>\n",
       "      <td>350.0</td>\n",
       "      <td>350.0</td>\n",
       "      <td>2015-10</td>\n",
       "    </tr>\n",
       "    <tr>\n",
       "      <th>2</th>\n",
       "      <td>2</td>\n",
       "      <td>2015-10-04</td>\n",
       "      <td>3.833924</td>\n",
       "      <td>64.0</td>\n",
       "      <td>64.0</td>\n",
       "      <td>2015-10</td>\n",
       "    </tr>\n",
       "    <tr>\n",
       "      <th>3</th>\n",
       "      <td>3</td>\n",
       "      <td>2015-10-05</td>\n",
       "      <td>-0.415049</td>\n",
       "      <td>674.0</td>\n",
       "      <td>674.0</td>\n",
       "      <td>2015-10</td>\n",
       "    </tr>\n",
       "    <tr>\n",
       "      <th>4</th>\n",
       "      <td>4</td>\n",
       "      <td>2015-10-06</td>\n",
       "      <td>0.293709</td>\n",
       "      <td>560.0</td>\n",
       "      <td>560.0</td>\n",
       "      <td>2015-10</td>\n",
       "    </tr>\n",
       "  </tbody>\n",
       "</table>\n",
       "</div>"
      ],
      "text/plain": [
       "   index   datetime  price_diff  price_x  price_y month_year\n",
       "0      0 2015-10-02    7.371864     36.0     36.0    2015-10\n",
       "1      1 2015-10-03   16.953006    350.0    350.0    2015-10\n",
       "2      2 2015-10-04    3.833924     64.0     64.0    2015-10\n",
       "3      3 2015-10-05   -0.415049    674.0    674.0    2015-10\n",
       "4      4 2015-10-06    0.293709    560.0    560.0    2015-10"
      ]
     },
     "execution_count": 101,
     "metadata": {},
     "output_type": "execute_result"
    }
   ],
   "source": [
    "final_sums.head()\n",
    "X=final_sums\n",
    "X.reset_index(inplace=True)\n",
    "X.head()"
   ]
  },
  {
   "cell_type": "code",
   "execution_count": 102,
   "metadata": {},
   "outputs": [
    {
     "name": "stderr",
     "output_type": "stream",
     "text": [
      "/anaconda2/lib/python3.7/site-packages/ipykernel_launcher.py:6: SettingWithCopyWarning: \n",
      "A value is trying to be set on a copy of a slice from a DataFrame\n",
      "\n",
      "See the caveats in the documentation: http://pandas.pydata.org/pandas-docs/stable/indexing.html#indexing-view-versus-copy\n",
      "  \n",
      "/anaconda2/lib/python3.7/site-packages/ipykernel_launcher.py:7: SettingWithCopyWarning: \n",
      "A value is trying to be set on a copy of a slice from a DataFrame\n",
      "\n",
      "See the caveats in the documentation: http://pandas.pydata.org/pandas-docs/stable/indexing.html#indexing-view-versus-copy\n",
      "  import sys\n",
      "/anaconda2/lib/python3.7/site-packages/ipykernel_launcher.py:8: SettingWithCopyWarning: \n",
      "A value is trying to be set on a copy of a slice from a DataFrame\n",
      "\n",
      "See the caveats in the documentation: http://pandas.pydata.org/pandas-docs/stable/indexing.html#indexing-view-versus-copy\n",
      "  \n"
     ]
    }
   ],
   "source": [
    "X['dateNumber']=0\n",
    "X['year']=0\n",
    "X['day']=0\n",
    "for i in range (829):\n",
    "    ts = pd.Timestamp(X['datetime'][i])\n",
    "    X['dateNumber'][i]=ts.weekofyear  \n",
    "    X['year'][i]=ts.year\n",
    "    X['day'][i]=ts.dayofweek \n",
    "  "
   ]
  },
  {
   "cell_type": "code",
   "execution_count": 103,
   "metadata": {},
   "outputs": [
    {
     "data": {
      "text/html": [
       "<div>\n",
       "<style scoped>\n",
       "    .dataframe tbody tr th:only-of-type {\n",
       "        vertical-align: middle;\n",
       "    }\n",
       "\n",
       "    .dataframe tbody tr th {\n",
       "        vertical-align: top;\n",
       "    }\n",
       "\n",
       "    .dataframe thead th {\n",
       "        text-align: right;\n",
       "    }\n",
       "</style>\n",
       "<table border=\"1\" class=\"dataframe\">\n",
       "  <thead>\n",
       "    <tr style=\"text-align: right;\">\n",
       "      <th></th>\n",
       "      <th>index</th>\n",
       "      <th>datetime</th>\n",
       "      <th>price_diff</th>\n",
       "      <th>price_x</th>\n",
       "      <th>price_y</th>\n",
       "      <th>month_year</th>\n",
       "      <th>dateNumber</th>\n",
       "      <th>year</th>\n",
       "      <th>day</th>\n",
       "    </tr>\n",
       "  </thead>\n",
       "  <tbody>\n",
       "    <tr>\n",
       "      <th>0</th>\n",
       "      <td>0</td>\n",
       "      <td>2015-10-02</td>\n",
       "      <td>7.371864</td>\n",
       "      <td>36.0</td>\n",
       "      <td>36.0</td>\n",
       "      <td>2015-10</td>\n",
       "      <td>40</td>\n",
       "      <td>2015</td>\n",
       "      <td>4</td>\n",
       "    </tr>\n",
       "    <tr>\n",
       "      <th>1</th>\n",
       "      <td>1</td>\n",
       "      <td>2015-10-03</td>\n",
       "      <td>16.953006</td>\n",
       "      <td>350.0</td>\n",
       "      <td>350.0</td>\n",
       "      <td>2015-10</td>\n",
       "      <td>40</td>\n",
       "      <td>2015</td>\n",
       "      <td>5</td>\n",
       "    </tr>\n",
       "    <tr>\n",
       "      <th>2</th>\n",
       "      <td>2</td>\n",
       "      <td>2015-10-04</td>\n",
       "      <td>3.833924</td>\n",
       "      <td>64.0</td>\n",
       "      <td>64.0</td>\n",
       "      <td>2015-10</td>\n",
       "      <td>40</td>\n",
       "      <td>2015</td>\n",
       "      <td>6</td>\n",
       "    </tr>\n",
       "    <tr>\n",
       "      <th>3</th>\n",
       "      <td>3</td>\n",
       "      <td>2015-10-05</td>\n",
       "      <td>-0.415049</td>\n",
       "      <td>674.0</td>\n",
       "      <td>674.0</td>\n",
       "      <td>2015-10</td>\n",
       "      <td>41</td>\n",
       "      <td>2015</td>\n",
       "      <td>0</td>\n",
       "    </tr>\n",
       "    <tr>\n",
       "      <th>4</th>\n",
       "      <td>4</td>\n",
       "      <td>2015-10-06</td>\n",
       "      <td>0.293709</td>\n",
       "      <td>560.0</td>\n",
       "      <td>560.0</td>\n",
       "      <td>2015-10</td>\n",
       "      <td>41</td>\n",
       "      <td>2015</td>\n",
       "      <td>1</td>\n",
       "    </tr>\n",
       "  </tbody>\n",
       "</table>\n",
       "</div>"
      ],
      "text/plain": [
       "   index   datetime  price_diff  price_x  price_y month_year  dateNumber  \\\n",
       "0      0 2015-10-02    7.371864     36.0     36.0    2015-10          40   \n",
       "1      1 2015-10-03   16.953006    350.0    350.0    2015-10          40   \n",
       "2      2 2015-10-04    3.833924     64.0     64.0    2015-10          40   \n",
       "3      3 2015-10-05   -0.415049    674.0    674.0    2015-10          41   \n",
       "4      4 2015-10-06    0.293709    560.0    560.0    2015-10          41   \n",
       "\n",
       "   year  day  \n",
       "0  2015    4  \n",
       "1  2015    5  \n",
       "2  2015    6  \n",
       "3  2015    0  \n",
       "4  2015    1  "
      ]
     },
     "execution_count": 103,
     "metadata": {},
     "output_type": "execute_result"
    }
   ],
   "source": [
    "X.head()"
   ]
  },
  {
   "cell_type": "code",
   "execution_count": 107,
   "metadata": {},
   "outputs": [
    {
     "data": {
      "text/html": [
       "<div>\n",
       "<style scoped>\n",
       "    .dataframe tbody tr th:only-of-type {\n",
       "        vertical-align: middle;\n",
       "    }\n",
       "\n",
       "    .dataframe tbody tr th {\n",
       "        vertical-align: top;\n",
       "    }\n",
       "\n",
       "    .dataframe thead th {\n",
       "        text-align: right;\n",
       "    }\n",
       "</style>\n",
       "<table border=\"1\" class=\"dataframe\">\n",
       "  <thead>\n",
       "    <tr style=\"text-align: right;\">\n",
       "      <th></th>\n",
       "      <th>datetime</th>\n",
       "      <th>price_diff</th>\n",
       "      <th>price_y</th>\n",
       "      <th>month_year</th>\n",
       "      <th>dateNumber</th>\n",
       "      <th>year</th>\n",
       "      <th>day</th>\n",
       "    </tr>\n",
       "  </thead>\n",
       "  <tbody>\n",
       "    <tr>\n",
       "      <th>0</th>\n",
       "      <td>2015-10-02</td>\n",
       "      <td>7.371864</td>\n",
       "      <td>36.0</td>\n",
       "      <td>2015-10</td>\n",
       "      <td>40</td>\n",
       "      <td>2015</td>\n",
       "      <td>4</td>\n",
       "    </tr>\n",
       "    <tr>\n",
       "      <th>1</th>\n",
       "      <td>2015-10-03</td>\n",
       "      <td>16.953006</td>\n",
       "      <td>350.0</td>\n",
       "      <td>2015-10</td>\n",
       "      <td>40</td>\n",
       "      <td>2015</td>\n",
       "      <td>5</td>\n",
       "    </tr>\n",
       "    <tr>\n",
       "      <th>2</th>\n",
       "      <td>2015-10-04</td>\n",
       "      <td>3.833924</td>\n",
       "      <td>64.0</td>\n",
       "      <td>2015-10</td>\n",
       "      <td>40</td>\n",
       "      <td>2015</td>\n",
       "      <td>6</td>\n",
       "    </tr>\n",
       "    <tr>\n",
       "      <th>3</th>\n",
       "      <td>2015-10-05</td>\n",
       "      <td>-0.415049</td>\n",
       "      <td>674.0</td>\n",
       "      <td>2015-10</td>\n",
       "      <td>41</td>\n",
       "      <td>2015</td>\n",
       "      <td>0</td>\n",
       "    </tr>\n",
       "    <tr>\n",
       "      <th>4</th>\n",
       "      <td>2015-10-06</td>\n",
       "      <td>0.293709</td>\n",
       "      <td>560.0</td>\n",
       "      <td>2015-10</td>\n",
       "      <td>41</td>\n",
       "      <td>2015</td>\n",
       "      <td>1</td>\n",
       "    </tr>\n",
       "  </tbody>\n",
       "</table>\n",
       "</div>"
      ],
      "text/plain": [
       "    datetime  price_diff  price_y month_year  dateNumber  year  day\n",
       "0 2015-10-02    7.371864     36.0    2015-10          40  2015    4\n",
       "1 2015-10-03   16.953006    350.0    2015-10          40  2015    5\n",
       "2 2015-10-04    3.833924     64.0    2015-10          40  2015    6\n",
       "3 2015-10-05   -0.415049    674.0    2015-10          41  2015    0\n",
       "4 2015-10-06    0.293709    560.0    2015-10          41  2015    1"
      ]
     },
     "execution_count": 107,
     "metadata": {},
     "output_type": "execute_result"
    }
   ],
   "source": [
    "  \n",
    "# ts=[]\n",
    "# ts = pd.Timestamp(X['datetime'])\n",
    "# str=ts.dayofyear\n",
    "\n",
    "\n",
    "# y = final_sums['price_diff']\n",
    "# X = final_sums.drop(columns=['price_diff'], inplace=True)\n",
    "# X = final_sums.drop(columns=['month_year'], inplace=True)\n",
    "X = final_sums.drop(columns=['price_x'], inplace=True)\n",
    "X.drop(columns=['index'], inplace=True)\n",
    "# X.drop(columns=['level_0'], inplace=True)\n",
    "\n",
    "X=final_sums\n",
    "# X.reset_index(inplace=True)\n",
    "X.head()\n"
   ]
  },
  {
   "cell_type": "code",
   "execution_count": 108,
   "metadata": {},
   "outputs": [
    {
     "data": {
      "text/html": [
       "<div>\n",
       "<style scoped>\n",
       "    .dataframe tbody tr th:only-of-type {\n",
       "        vertical-align: middle;\n",
       "    }\n",
       "\n",
       "    .dataframe tbody tr th {\n",
       "        vertical-align: top;\n",
       "    }\n",
       "\n",
       "    .dataframe thead th {\n",
       "        text-align: right;\n",
       "    }\n",
       "</style>\n",
       "<table border=\"1\" class=\"dataframe\">\n",
       "  <thead>\n",
       "    <tr style=\"text-align: right;\">\n",
       "      <th></th>\n",
       "      <th>datetime</th>\n",
       "      <th>price_diff</th>\n",
       "      <th>price_y</th>\n",
       "      <th>month_year</th>\n",
       "      <th>dateNumber</th>\n",
       "      <th>year</th>\n",
       "      <th>day</th>\n",
       "    </tr>\n",
       "  </thead>\n",
       "  <tbody>\n",
       "    <tr>\n",
       "      <th>0</th>\n",
       "      <td>2015-10-02</td>\n",
       "      <td>7.371864</td>\n",
       "      <td>36.0</td>\n",
       "      <td>2015-10</td>\n",
       "      <td>40</td>\n",
       "      <td>2015</td>\n",
       "      <td>4</td>\n",
       "    </tr>\n",
       "    <tr>\n",
       "      <th>1</th>\n",
       "      <td>2015-10-03</td>\n",
       "      <td>16.953006</td>\n",
       "      <td>350.0</td>\n",
       "      <td>2015-10</td>\n",
       "      <td>40</td>\n",
       "      <td>2015</td>\n",
       "      <td>5</td>\n",
       "    </tr>\n",
       "    <tr>\n",
       "      <th>2</th>\n",
       "      <td>2015-10-04</td>\n",
       "      <td>3.833924</td>\n",
       "      <td>64.0</td>\n",
       "      <td>2015-10</td>\n",
       "      <td>40</td>\n",
       "      <td>2015</td>\n",
       "      <td>6</td>\n",
       "    </tr>\n",
       "    <tr>\n",
       "      <th>3</th>\n",
       "      <td>2015-10-05</td>\n",
       "      <td>-0.415049</td>\n",
       "      <td>674.0</td>\n",
       "      <td>2015-10</td>\n",
       "      <td>41</td>\n",
       "      <td>2015</td>\n",
       "      <td>0</td>\n",
       "    </tr>\n",
       "    <tr>\n",
       "      <th>4</th>\n",
       "      <td>2015-10-06</td>\n",
       "      <td>0.293709</td>\n",
       "      <td>560.0</td>\n",
       "      <td>2015-10</td>\n",
       "      <td>41</td>\n",
       "      <td>2015</td>\n",
       "      <td>1</td>\n",
       "    </tr>\n",
       "  </tbody>\n",
       "</table>\n",
       "</div>"
      ],
      "text/plain": [
       "    datetime  price_diff  price_y month_year  dateNumber  year  day\n",
       "0 2015-10-02    7.371864     36.0    2015-10          40  2015    4\n",
       "1 2015-10-03   16.953006    350.0    2015-10          40  2015    5\n",
       "2 2015-10-04    3.833924     64.0    2015-10          40  2015    6\n",
       "3 2015-10-05   -0.415049    674.0    2015-10          41  2015    0\n",
       "4 2015-10-06    0.293709    560.0    2015-10          41  2015    1"
      ]
     },
     "execution_count": 108,
     "metadata": {},
     "output_type": "execute_result"
    }
   ],
   "source": [
    "X_base=[]\n",
    "X_base=X\n",
    "X_base.head()"
   ]
  },
  {
   "cell_type": "code",
   "execution_count": 109,
   "metadata": {},
   "outputs": [],
   "source": [
    "# X['day']=0\n",
    "# for i in range (829):\n",
    "#     ts = pd.Timestamp(X['datetime'][i])\n",
    "#     X['day'][i]=ts.dayofyear  \n",
    "    \n",
    "\n",
    "X.drop(columns=['datetime'], inplace=True)\n",
    "#  X.drop(columns=['year'], inplace=True)\n",
    "\n"
   ]
  },
  {
   "cell_type": "code",
   "execution_count": 116,
   "metadata": {},
   "outputs": [
    {
     "data": {
      "text/plain": [
       "price_diff    float64\n",
       "price_y       float64\n",
       "dateNumber      int64\n",
       "year            int64\n",
       "day             int64\n",
       "dtype: object"
      ]
     },
     "execution_count": 116,
     "metadata": {},
     "output_type": "execute_result"
    }
   ],
   "source": [
    "# X_base.drop(columns=['index'], inplace=True)\n",
    "X.drop(columns=['month_year'], inplace=True)\n",
    "X.dtypes"
   ]
  },
  {
   "cell_type": "code",
   "execution_count": 112,
   "metadata": {},
   "outputs": [
    {
     "data": {
      "text/plain": [
       "0     7.371864\n",
       "1    16.953006\n",
       "2     3.833924\n",
       "3    -0.415049\n",
       "4     0.293709\n",
       "Name: price_diff, dtype: float64"
      ]
     },
     "execution_count": 112,
     "metadata": {},
     "output_type": "execute_result"
    }
   ],
   "source": [
    "y.head()"
   ]
  },
  {
   "cell_type": "code",
   "execution_count": 118,
   "metadata": {},
   "outputs": [],
   "source": [
    "from sklearn.model_selection import train_test_split\n",
    "\n",
    "X_train, X_test, y_train, y_test = train_test_split(X, y, test_size=0.25, random_state=65)  "
   ]
  },
  {
   "cell_type": "code",
   "execution_count": 119,
   "metadata": {},
   "outputs": [
    {
     "name": "stdout",
     "output_type": "stream",
     "text": [
      "k=  1 Mape_test : 96.93027902130311 RMSE: 7.590691475391578\n",
      "k=  2 Mape_test : 86.09641301850976 RMSE: 7.498314148695556\n",
      "k=  3 Mape_test : 92.06520064556254 RMSE: 7.47900908478427\n",
      "k=  4 Mape_test : 116.1965083858999 RMSE: 8.021621987432491\n",
      "k=  5 Mape_test : 137.5296161991317 RMSE: 8.636909094103114\n",
      "k=  6 Mape_test : 156.08911059579245 RMSE: 8.89088812574991\n",
      "k=  7 Mape_test : 150.4555398344755 RMSE: 9.375949380971681\n",
      "k=  8 Mape_test : 158.35140946045752 RMSE: 9.69285460041786\n",
      "k=  9 Mape_test : 176.7396321598467 RMSE: 9.964856560060792\n",
      "k=  10 Mape_test : 193.08006832075503 RMSE: 10.095211442341665\n",
      "k=  11 Mape_test : 193.11627468688204 RMSE: 10.325921003334656\n",
      "k=  12 Mape_test : 218.18381413608395 RMSE: 10.451439009253889\n",
      "k=  13 Mape_test : 208.76669456594024 RMSE: 10.715007911712435\n",
      "k=  14 Mape_test : 199.8977371169692 RMSE: 10.892006517151101\n",
      "k=  15 Mape_test : 191.96289640959222 RMSE: 11.119016723559437\n",
      "k=  16 Mape_test : 188.33967487978495 RMSE: 11.324549256956765\n",
      "k=  17 Mape_test : 180.88732726459298 RMSE: 11.556874290948514\n",
      "k=  18 Mape_test : 192.27480033986862 RMSE: 11.764727538380855\n",
      "k=  19 Mape_test : 194.96187881092436 RMSE: 11.816225029180279\n",
      "k=  20 Mape_test : 195.9271290587572 RMSE: 12.01381944435423\n"
     ]
    }
   ],
   "source": [
    "from sklearn.neighbors import KNeighborsRegressor\n",
    "from math import sqrt\n",
    "from sklearn.metrics import mean_squared_error \n",
    "from sklearn.preprocessing import StandardScaler\n",
    "\n",
    "rmse_val=[]\n",
    "\n",
    "for k in range(20):\n",
    "    k = k+1\n",
    "#     sc = StandardScaler()  \n",
    "#     X_train = sc.fit_transform(X_train)  \n",
    "#     X_test = sc.transform(X_test)\n",
    "    regressor = KNeighborsRegressor(n_neighbors = k) \n",
    "    regressor.fit(X_train, y_train)\n",
    "    pred_test = regressor.predict(X_test)\n",
    "    error = sqrt(mean_squared_error(y_test,pred_test))\n",
    "    rmse_val.append(error) \n",
    "#     print('RMSE value for k= ' , k , 'is:', error)\n",
    "    mape_train = np.mean(np.abs((y_train - y_train) / y_train)) * 100\n",
    "    mape_test = np.mean(np.abs((y_test - pred_test) / y_test)) * 100\n",
    "    #print('Mape_train value for k= ' , k , 'is:', mape_train)\n",
    "    print('k= ' , k ,'Mape_test :', mape_test,'RMSE:', error )\n",
    "    "
   ]
  },
  {
   "cell_type": "code",
   "execution_count": null,
   "metadata": {},
   "outputs": [],
   "source": []
  },
  {
   "cell_type": "markdown",
   "metadata": {},
   "source": [
    "## Random Forest Regres"
   ]
  },
  {
   "cell_type": "code",
   "execution_count": 120,
   "metadata": {},
   "outputs": [],
   "source": [
    "from sklearn.preprocessing import StandardScaler\n",
    "from sklearn.metrics import mean_absolute_error \n",
    "from sklearn.metrics import mean_squared_error \n",
    "\n",
    "def random_forest(model, X_train, X_test, Y_train, Y_test):\n",
    "#     sc = StandardScaler()  \n",
    "#     X_train = sc.fit_transform(X_train)  \n",
    "#     X_test = sc.transform(X_test)\n",
    "    model.fit(X_train, y_train)  \n",
    "    y_pred_test = model.predict(X_test)\n",
    "    y_pred_train = model.predict(X_train)\n",
    "    mae_train = mean_absolute_error(y_train, y_pred_train)\n",
    "    mae_test = mean_absolute_error(y_test, y_pred_test)\n",
    "    mape_train = np.mean(np.abs((y_train - y_pred_train) / y_train)) * 100\n",
    "    mape_test = np.mean(np.abs((y_test - y_pred_test) / y_test)) * 100\n",
    "    mse_test = mean_squared_error(y_test, y_pred_test)\n",
    "    rmse_test = np.sqrt(mean_squared_error(y_test, y_pred_test))\n",
    "    return mape_train, y_pred_test, mape_test, mse_test, rmse_test, model\n",
    "def modelling(model, X_train, X_test, y_train, y_test):\n",
    "#     sc = StandardScaler()  \n",
    "#     X_train = sc.fit_transform(X_train)  \n",
    "#     X_test = sc.transform(X_test)\n",
    "    model.fit(X_train, y_train)  \n",
    "    y_pred_test = model.predict(X_test)\n",
    "    y_pred_train = model.predict(X_train)\n",
    "    mae_train = mean_absolute_error(y_train, y_pred_train)\n",
    "    mae_test = mean_absolute_error(y_test, y_pred_test)\n",
    "    mape_train = np.mean(np.abs((y_train - y_pred_train) / y_train)) * 100\n",
    "    mape_test = np.mean(np.abs((y_test - y_pred_test) / y_test)) * 100\n",
    "    mse_test = mean_squared_error(y_test, y_pred_test)\n",
    "    rmse_test = np.sqrt(mean_squared_error(y_test, y_pred_test))\n",
    "    \n",
    "    return [mape_train, mape_test,mae_train, mae_test, mse_test, rmse_test,y_pred_test]    "
   ]
  },
  {
   "cell_type": "code",
   "execution_count": 121,
   "metadata": {},
   "outputs": [
    {
     "name": "stdout",
     "output_type": "stream",
     "text": [
      "RandomForestRegressor(bootstrap=True, criterion='mse', max_depth=None,\n",
      "           max_features='auto', max_leaf_nodes=None,\n",
      "           min_impurity_decrease=0.0, min_impurity_split=None,\n",
      "           min_samples_leaf=1, min_samples_split=2,\n",
      "           min_weight_fraction_leaf=0.0, n_estimators='warn', n_jobs=None,\n",
      "           oob_score=False, random_state=None, verbose=0, warm_start=False)\n",
      "MAPE for train is:  0.43080157287637827 \n",
      "MAPE for test is:  2.2249294924691134 \n",
      "MSE for test is:  0.8272574108042962 \n",
      "RMSE for test is:  0.9095369210781364\n"
     ]
    },
    {
     "name": "stderr",
     "output_type": "stream",
     "text": [
      "/anaconda2/lib/python3.7/site-packages/sklearn/ensemble/forest.py:246: FutureWarning: The default value of n_estimators will change from 10 in version 0.20 to 100 in 0.22.\n",
      "  \"10 in version 0.20 to 100 in 0.22.\", FutureWarning)\n"
     ]
    }
   ],
   "source": [
    "from sklearn.ensemble import RandomForestRegressor\n",
    "\n",
    "regressor = RandomForestRegressor()  \n",
    "print(regressor)\n",
    "mape_train, y_pred_test, mape_test, mse_test, rmse_test, model = random_forest(regressor,X_train, X_test, y_train, y_test)\n",
    "print('MAPE for train is: ', mape_train,'\\nMAPE for test is: ', mape_test,'\\nMSE for test is: ', mse_test, '\\nRMSE for test is: ', rmse_test)\n",
    "\n"
   ]
  },
  {
   "cell_type": "code",
   "execution_count": 122,
   "metadata": {},
   "outputs": [
    {
     "name": "stdout",
     "output_type": "stream",
     "text": [
      "KFold(n_splits=5, random_state=None, shuffle=False)\n"
     ]
    }
   ],
   "source": [
    "from sklearn.model_selection import KFold\n",
    "kf = KFold(n_splits=5)\n",
    "kf.get_n_splits(X)\n",
    "X_feat = data.values\n",
    "Y_feat = y.values\n",
    "print(kf) \n"
   ]
  },
  {
   "cell_type": "code",
   "execution_count": 135,
   "metadata": {
    "scrolled": false
   },
   "outputs": [
    {
     "name": "stdout",
     "output_type": "stream",
     "text": [
      "KF =  5  Depth =  10 MAPE =  0.6104744727927983 \t MAE =  0.13330057510468044 \t RMSE =  0.467667138863785\n",
      "KF =  5  Depth =  20 MAPE =  0.669235855440288 \t MAE =  0.11133241377316015 \t RMSE =  0.32612065252614\n",
      "KF =  6  Depth =  8 MAPE =  0.6070256888863003 \t MAE =  0.108229876950102 \t RMSE =  0.1554604899945894\n",
      "KF =  6  Depth =  10 MAPE =  0.4341119205299237 \t MAE =  0.07879860218218392 \t RMSE =  0.11962605547602789\n",
      "KF =  6  Depth =  11 MAPE =  0.5542158090902378 \t MAE =  0.07153513335726727 \t RMSE =  0.16828716664380483\n",
      "KF =  6  Depth =  11 MAPE =  0.4297394308205573 \t MAE =  0.07991873266269002 \t RMSE =  0.13163301213207243\n",
      "KF =  6  Depth =  20 MAPE =  0.6827874075625333 \t MAE =  0.07346238570592736 \t RMSE =  0.20200758990981915\n",
      "KF =  6  Depth =  20 MAPE =  0.39535172102626487 \t MAE =  0.07440325064032262 \t RMSE =  0.11930685304527178\n",
      "KF =  7  Depth =  8 MAPE =  0.6259263857523961 \t MAE =  0.1033723103838196 \t RMSE =  0.14955562560879512\n",
      "KF =  7  Depth =  10 MAPE =  0.6568474202102275 \t MAE =  0.0503250846213536 \t RMSE =  0.08039319899257354\n",
      "KF =  7  Depth =  10 MAPE =  0.4540502132339837 \t MAE =  0.07490108255144998 \t RMSE =  0.1274292319431529\n",
      "KF =  7  Depth =  11 MAPE =  0.6725240666473725 \t MAE =  0.13957771846677164 \t RMSE =  0.2624596408749731\n",
      "KF =  7  Depth =  11 MAPE =  0.38111295323943756 \t MAE =  0.06341540781560716 \t RMSE =  0.10117969410557978\n",
      "KF =  7  Depth =  20 MAPE =  0.5719293618982841 \t MAE =  0.047599705418841086 \t RMSE =  0.07187502784290785\n",
      "KF =  7  Depth =  20 MAPE =  0.36054708461558455 \t MAE =  0.06150415906087516 \t RMSE =  0.09604267861837372\n"
     ]
    }
   ],
   "source": [
    "\n",
    "for n in range(2,8):\n",
    "    kf = KFold(n_splits=n)\n",
    "    kf.get_n_splits(X)\n",
    "    X_feat = data.values\n",
    "    Y_feat = y.values\n",
    "\n",
    "    max_depth_list = [1,3,4,5,6,7,8,10,11,20]\n",
    "    for depth in max_depth_list:\n",
    "        MAPE_TEST = []  \n",
    "        MAPE_TRAIN =[]\n",
    "        regressor = RandomForestRegressor(n_estimators=10, max_depth= depth, criterion=\"mae\") \n",
    "\n",
    "        for i, j in kf.split(data):\n",
    "            X_train, X_test = X_feat[i], X_feat[j]\n",
    "            y_train, y_test = Y_feat[i], Y_feat[j]\n",
    "            mape_train, mape_test,mae_train, mae_test, mse_test, rmse_test,y_pred_test = modelling(regressor,X_train, X_test, y_train, y_test)\n",
    "    #         print(\"depth = \",depth,\"MAPE = \", mape_test,\"MAE = \",mape_train)\n",
    "            MAPE_TEST.append(mape_test)\n",
    "            MAPE_TRAIN.append(mape_train)\n",
    "            if(mape_test<0.7):\n",
    "                print(\"KF = \",n,\" Depth = \",depth,\"MAPE = \",(mape_test),\"\\t MAE = \",(mae_test),\"\\t RMSE = \", (rmse_test))\n",
    "    #         if(mae_test<15):\n",
    "    #             print(\"depth = \",depth,\"MAPE = \", mape_test,\"MAE = \",mape_train)\n",
    "\n",
    "    #print(\"depth = \",depth, MAPE_TEST)"
   ]
  },
  {
   "cell_type": "code",
   "execution_count": 138,
   "metadata": {},
   "outputs": [
    {
     "name": "stdout",
     "output_type": "stream",
     "text": [
      "KF =  7  Depth =  12 MAPE =  0.3668483736736592 \t MAE =  0.06861103222401096 \t RMSE =  0.11151867347726123\n",
      "KF =  7  Depth =  18 MAPE =  0.3805324509401731 \t MAE =  0.0666527457817055 \t RMSE =  0.11433757216798356\n",
      "KF =  7  Depth =  27 MAPE =  0.393132694704924 \t MAE =  0.06932680531890953 \t RMSE =  0.1126063761666706\n"
     ]
    }
   ],
   "source": [
    "kf = KFold(n_splits=7)\n",
    "kf.get_n_splits(X)\n",
    "X_feat = data.values\n",
    "Y_feat = y.values\n",
    "\n",
    "max_depth_list = [10,12,14,18,20,25,27]\n",
    "for depth in max_depth_list:\n",
    "    MAPE_TEST = []  \n",
    "    MAPE_TRAIN =[]\n",
    "    regressor = RandomForestRegressor(n_estimators=10, max_depth= depth, criterion=\"mae\") \n",
    "\n",
    "    for i, j in kf.split(data):\n",
    "        X_train, X_test = X_feat[i], X_feat[j]\n",
    "        y_train, y_test = Y_feat[i], Y_feat[j]\n",
    "        mape_train, mape_test,mae_train, mae_test, mse_test, rmse_test,y_pred_test = modelling(regressor,X_train, X_test, y_train, y_test)\n",
    "    #         print(\"depth = \",depth,\"MAPE = \", mape_test,\"MAE = \",mape_train)\n",
    "        MAPE_TEST.append(mape_test)\n",
    "        MAPE_TRAIN.append(mape_train)\n",
    "        if(mape_test< 0.4 ):\n",
    "            print(\"KF = \",n,\" Depth = \",depth,\"MAPE = \",(mape_test),\"\\t MAE = \",(mae_test),\"\\t RMSE = \", (rmse_test))\n",
    "    #         if(mae_test<15):\n",
    "    #             print(\"depth = \",depth,\"MAPE = \", mape_test,\"MAE = \",mape_train)\n",
    "\n",
    "    #print(\"depth = \",depth, MAPE_TEST)"
   ]
  },
  {
   "cell_type": "markdown",
   "metadata": {},
   "source": [
    "## Result:\n",
    "KF =  7  Depth =  18 MAPE =  0.3805324509401731 \t MAE =  0.0666527457817055 \t RMSE =  0.11433757216798356\n"
   ]
  },
  {
   "cell_type": "markdown",
   "metadata": {},
   "source": []
  },
  {
   "cell_type": "code",
   "execution_count": 140,
   "metadata": {},
   "outputs": [
    {
     "name": "stdout",
     "output_type": "stream",
     "text": [
      "KFold(n_splits=5, random_state=None, shuffle=False)\n",
      "estimator =  10 [0.7899651598613154]\n",
      "estimator =  15 [0.5530450825306901]\n",
      "estimator =  20 [0.4928781271913986]\n",
      "estimator =  25 [0.5225845646287692]\n",
      "estimator =  30 [0.5109734612139841]\n",
      "estimator =  50 [0.39567302308267166]\n",
      "estimator =  60 [0.4506783409415665]\n"
     ]
    }
   ],
   "source": [
    "kf = KFold(n_splits=5)\n",
    "kf.get_n_splits(X)\n",
    "\n",
    "print(kf) \n",
    "\n",
    "n_estimator_list = [10,15,20,25,30,50,60]\n",
    "for est in n_estimator_list:\n",
    "    MAPE_TEST = []  \n",
    "    MAPE_TRAIN =[]\n",
    "    mat=[]\n",
    "    regressor = RandomForestRegressor(max_depth= 20,n_estimators = est) \n",
    "\n",
    "    for i, j in kf.split(X_feat):\n",
    "        X_train, X_test = X_feat[i], X_feat[j]\n",
    "        y_train, y_test = Y_feat[i], Y_feat[j]\n",
    "        result = modelling(regressor,X_train, X_test, y_train, y_test)\n",
    "    MAPE_TEST.append(result[1])\n",
    "    MAPE_TRAIN.append(result[0])\n",
    "    \n",
    "    print(\"estimator = \",est, MAPE_TEST)\n",
    "    "
   ]
  },
  {
   "cell_type": "markdown",
   "metadata": {},
   "source": [
    "## Grid-search for Random Forest Regressor to find the best parameters"
   ]
  },
  {
   "cell_type": "code",
   "execution_count": 141,
   "metadata": {},
   "outputs": [
    {
     "name": "stdout",
     "output_type": "stream",
     "text": [
      "KFold(n_splits=5, random_state=None, shuffle=False)\n",
      "<bound method BaseSearchCV.score of GridSearchCV(cv=5, error_score='raise-deprecating',\n",
      "       estimator=RandomForestRegressor(bootstrap=True, criterion='mse', max_depth=None,\n",
      "           max_features='auto', max_leaf_nodes=None,\n",
      "           min_impurity_decrease=0.0, min_impurity_split=None,\n",
      "           min_samples_leaf=1, min_samples_split=2,\n",
      "           min_weight_fraction_leaf=0.0, n_estimators='warn', n_jobs=None,\n",
      "           oob_score=False, random_state=None, verbose=0, warm_start=False),\n",
      "       fit_params=None, iid='warn', n_jobs=None,\n",
      "       param_grid={'n_estimators': [20, 25, 30, 40, 200], 'criterion': ['mse', 'mae'], 'max_features': ['auto', 'sqrt', 'log2'], 'max_depth': [1, 5, 10, 15]},\n",
      "       pre_dispatch='2*n_jobs', refit=True, return_train_score='warn',\n",
      "       scoring=None, verbose=0)>\n"
     ]
    },
    {
     "name": "stderr",
     "output_type": "stream",
     "text": [
      "/anaconda2/lib/python3.7/site-packages/sklearn/model_selection/_search.py:841: DeprecationWarning: The default of the `iid` parameter will change from True to False in version 0.22 and will be removed in 0.24. This will change numeric results when test-set sizes are unequal.\n",
      "  DeprecationWarning)\n"
     ]
    }
   ],
   "source": [
    "from sklearn.model_selection import GridSearchCV\n",
    "kf = KFold(n_splits=5)\n",
    "kf.get_n_splits(X)\n",
    "\n",
    "print(kf) \n",
    "regressor = RandomForestRegressor() \n",
    "param_grid = {\"n_estimators\": [20,25,30,40,200],\n",
    "              \"criterion\":['mse','mae'],\n",
    "              \"max_features\": ['auto', 'sqrt', 'log2'],\n",
    "             \"max_depth\": [1,5,10,15]}\n",
    "\n",
    "grid_search = GridSearchCV(regressor, param_grid=param_grid, cv=5)\n",
    "grid_search.fit(X, y)\n",
    "\n",
    "print(grid_search.score)"
   ]
  },
  {
   "cell_type": "code",
   "execution_count": 142,
   "metadata": {},
   "outputs": [
    {
     "data": {
      "text/plain": [
       "{'criterion': 'mse',\n",
       " 'max_depth': 15,\n",
       " 'max_features': 'auto',\n",
       " 'n_estimators': 30}"
      ]
     },
     "execution_count": 142,
     "metadata": {},
     "output_type": "execute_result"
    }
   ],
   "source": [
    "grid_search.best_params_\n"
   ]
  },
  {
   "cell_type": "code",
   "execution_count": 143,
   "metadata": {},
   "outputs": [
    {
     "data": {
      "text/plain": [
       "<bound method BaseSearchCV.score of GridSearchCV(cv=5, error_score='raise-deprecating',\n",
       "       estimator=RandomForestRegressor(bootstrap=True, criterion='mse', max_depth=None,\n",
       "           max_features='auto', max_leaf_nodes=None,\n",
       "           min_impurity_decrease=0.0, min_impurity_split=None,\n",
       "           min_samples_leaf=1, min_samples_split=2,\n",
       "           min_weight_fraction_leaf=0.0, n_estimators='warn', n_jobs=None,\n",
       "           oob_score=False, random_state=None, verbose=0, warm_start=False),\n",
       "       fit_params=None, iid='warn', n_jobs=None,\n",
       "       param_grid={'n_estimators': [20, 25, 30, 40, 200], 'criterion': ['mse', 'mae'], 'max_features': ['auto', 'sqrt', 'log2'], 'max_depth': [1, 5, 10, 15]},\n",
       "       pre_dispatch='2*n_jobs', refit=True, return_train_score='warn',\n",
       "       scoring=None, verbose=0)>"
      ]
     },
     "execution_count": 143,
     "metadata": {},
     "output_type": "execute_result"
    }
   ],
   "source": [
    "grid_search.score"
   ]
  },
  {
   "cell_type": "code",
   "execution_count": 154,
   "metadata": {},
   "outputs": [
    {
     "name": "stdout",
     "output_type": "stream",
     "text": [
      "KF =  7  Depth =  25 MAPE =  0.2980672311139231 \t MAE =  0.0532345574356782 \t RMSE =  0.0802431751118691\n"
     ]
    }
   ],
   "source": [
    "\n",
    "\n",
    "for n in range(2,8):\n",
    "    kf = KFold(n_splits=n)\n",
    "    kf.get_n_splits(X)\n",
    "    X_feat = data.values\n",
    "    Y_feat = y.values\n",
    "\n",
    "    max_depth_list = [1,7,8,10,20,25]\n",
    "    for depth in max_depth_list:\n",
    "        MAPE_TEST = []  \n",
    "        MAPE_TRAIN =[]\n",
    "        regressor = RandomForestRegressor(criterion= 'mse', max_depth= 15, max_features= 'auto', n_estimators= 40) \n",
    "\n",
    "        for i, j in kf.split(data):\n",
    "            X_train, X_test = X_feat[i], X_feat[j]\n",
    "            y_train, y_test = Y_feat[i], Y_feat[j]\n",
    "            mape_train, mape_test,mae_train, mae_test, mse_test, rmse_test,y_pred_test = modelling(regressor,X_train, X_test, y_train, y_test)\n",
    "    #         print(\"depth = \",depth,\"MAPE = \", mape_test,\"MAE = \",mape_train)\n",
    "            MAPE_TEST.append(mape_test)\n",
    "            MAPE_TRAIN.append(mape_train)\n",
    "            if(mape_test<0.3 ):\n",
    "                print(\"KF = \",n,\" Depth = \",depth,\"MAPE = \",(mape_test),\"\\t MAE = \",(mae_test),\"\\t RMSE = \",(rmse_test))\n",
    "\n"
   ]
  },
  {
   "cell_type": "code",
   "execution_count": 155,
   "metadata": {},
   "outputs": [],
   "source": [
    "rfModel= RandomForestRegressor(criterion= 'mse', max_depth= 15, max_features= 'auto', n_estimators= 40)"
   ]
  },
  {
   "cell_type": "markdown",
   "metadata": {},
   "source": [
    "## Using Decision Tree Regressor"
   ]
  },
  {
   "cell_type": "code",
   "execution_count": 145,
   "metadata": {},
   "outputs": [
    {
     "name": "stdout",
     "output_type": "stream",
     "text": [
      "DecisionTreeRegressor(criterion='mse', max_depth=None, max_features=None,\n",
      "           max_leaf_nodes=None, min_impurity_decrease=0.0,\n",
      "           min_impurity_split=None, min_samples_leaf=1,\n",
      "           min_samples_split=2, min_weight_fraction_leaf=0.0,\n",
      "           presort=False, random_state=None, splitter='best')\n",
      "MAPE for train is:  9.523276730122006e-05 ,MAPE for test is:  0.46005900853482784 ,MAE for train is:  3.406427841068023e-06 ,MAE for test is:  0.07896415646489877 ,MSE for test is:  0.016187843664365383 ,RMSE for test is:  0.12723145705510638\n"
     ]
    }
   ],
   "source": [
    "from sklearn.model_selection import cross_val_score\n",
    "from sklearn.tree import DecisionTreeRegressor\n",
    "model1 =DecisionTreeRegressor()\n",
    "print(model1)\n",
    "metrices_list = modelling(model1,X_train, X_test, y_train, y_test)\n",
    "print('MAPE for train is: ', str(metrices_list[0]),',MAPE for test is: ', str(metrices_list[1]),\n",
    "      ',MAE for train is: ', str(metrices_list[2]),',MAE for test is: ', str(metrices_list[3]), \n",
    "      ',MSE for test is: ', str(metrices_list[4]),',RMSE for test is: ',str(metrices_list[5]))\n"
   ]
  },
  {
   "cell_type": "markdown",
   "metadata": {},
   "source": [
    "### Using grid-search to find the best parameters\n"
   ]
  },
  {
   "cell_type": "code",
   "execution_count": 162,
   "metadata": {},
   "outputs": [
    {
     "name": "stdout",
     "output_type": "stream",
     "text": [
      "Best parameters set found on development set:\n",
      "\n",
      "{'max_depth': 11, 'max_features': None}\n"
     ]
    }
   ],
   "source": [
    "def bestParameters():\n",
    "        #regressor = tree.DecisionTreeRegressor() \n",
    "\n",
    "        # Set the parameters by cross-validation\n",
    "        tuned_parameters = [{'max_features': ['sqrt', 'log2', None],\n",
    "                             'max_depth': range(11,20,60),\n",
    "                             }\n",
    "                            ]\n",
    "\n",
    "\n",
    "        reg = GridSearchCV(DecisionTreeRegressor(), tuned_parameters, cv=5)\n",
    "        reg.fit(X_train, y_train)\n",
    "\n",
    "        print (\"Best parameters set found on development set:\\n\")\n",
    "        print (reg.best_params_)\n",
    "\n",
    "        \n",
    "bestParameters()"
   ]
  },
  {
   "cell_type": "markdown",
   "metadata": {},
   "source": [
    "### Using best parameters to calculate the mape using Decision Tree Regressor"
   ]
  },
  {
   "cell_type": "code",
   "execution_count": 164,
   "metadata": {},
   "outputs": [
    {
     "name": "stdout",
     "output_type": "stream",
     "text": [
      "DecisionTreeRegressor(criterion='mse', max_depth=40, max_features=None,\n",
      "           max_leaf_nodes=None, min_impurity_decrease=0.0,\n",
      "           min_impurity_split=None, min_samples_leaf=1,\n",
      "           min_samples_split=2, min_weight_fraction_leaf=0.0,\n",
      "           presort=False, random_state=None, splitter='best')\n",
      "MAPE for train is:  9.523276730122006e-05 ,MAPE for test is:  0.4871301835573235 ,MAE for train is:  3.406427841068023e-06 ,MAE for test is:  0.07878875689620728 ,MSE for test is:  0.01388963720337953 ,RMSE for test is:  0.11785430498449995\n"
     ]
    }
   ],
   "source": [
    "decisionTreeModel = DecisionTreeRegressor(max_features=None, max_depth = 40)\n",
    "print(model2)\n",
    "metrices_list = modelling(model2,X_train, X_test, y_train, y_test)\n",
    "print('MAPE for train is: ', str(metrices_list[0]),',MAPE for test is: ', str(metrices_list[1]),\n",
    "      ',MAE for train is: ', str(metrices_list[2]),',MAE for test is: ', str(metrices_list[3]), \n",
    "      ',MSE for test is: ', str(metrices_list[4]),',RMSE for test is: ',str(metrices_list[5]))\n"
   ]
  },
  {
   "cell_type": "code",
   "execution_count": null,
   "metadata": {},
   "outputs": [],
   "source": []
  },
  {
   "cell_type": "markdown",
   "metadata": {},
   "source": [
    "## KNN Neighbors"
   ]
  },
  {
   "cell_type": "code",
   "execution_count": 165,
   "metadata": {},
   "outputs": [
    {
     "name": "stdout",
     "output_type": "stream",
     "text": [
      "KNeighborsRegressor(algorithm='auto', leaf_size=30, metric='minkowski',\n",
      "          metric_params=None, n_jobs=None, n_neighbors=5, p=2,\n",
      "          weights='uniform')\n",
      "MAPE for train is:  79.28973062860648 ,MAPE for test is:  25.559440895594186 ,MAE for train is:  3.2740237454092496 ,MAE for test is:  2.7832927692091762 ,MSE for test is:  19.410728099252577 ,RMSE for test is:  4.405760785523038\n"
     ]
    }
   ],
   "source": [
    "from sklearn.neighbors import KNeighborsRegressor\n",
    "regressor = KNeighborsRegressor() \n",
    "print(regressor)\n",
    "metrices = modelling(regressor,X_train, X_test, y_train, y_test)\n",
    "print('MAPE for train is: ', str(metrices[0]),',MAPE for test is: ', str(metrices[1]),\n",
    "      ',MAE for train is: ', str(metrices[2]),',MAE for test is: ', str(metrices[3]), \n",
    "      ',MSE for test is: ', str(metrices[4]),',RMSE for test is: ',str(metrices[5]))"
   ]
  },
  {
   "cell_type": "code",
   "execution_count": null,
   "metadata": {},
   "outputs": [],
   "source": []
  },
  {
   "cell_type": "markdown",
   "metadata": {},
   "source": [
    "\n",
    "## Pickling the final model"
   ]
  },
  {
   "cell_type": "code",
   "execution_count": 166,
   "metadata": {},
   "outputs": [
    {
     "name": "stdout",
     "output_type": "stream",
     "text": [
      "<_io.BufferedWriter name='RFModelSurge.pkl'>\n",
      "<_io.BufferedWriter name='DTModelSurge.pkl'>\n"
     ]
    }
   ],
   "source": [
    "import pickle\n",
    "ran_for = open('RFModelSurge.pkl', 'wb')\n",
    "pickle.dump(rfModel, ran_for)\n",
    "print(ran_for)\n",
    "ran_for.close()\n",
    "\n",
    "decision_tree = open('DTModelSurge.pkl', 'wb')\n",
    "pickle.dump(decisionTreeModel, decision_tree)\n",
    "print(decision_tree)\n",
    "decision_tree.close()\n"
   ]
  },
  {
   "cell_type": "markdown",
   "metadata": {},
   "source": [
    "## Scores"
   ]
  },
  {
   "cell_type": "markdown",
   "metadata": {},
   "source": [
    " Random Forest:\n",
    "        KF = 7 Depth = 18 MAPE = 0.38 MAE = 0.066 RMSE = 0.114"
   ]
  },
  {
   "cell_type": "markdown",
   "metadata": {},
   "source": [
    "Decision Tree:\n",
    "                MAPE=0.460  MAE= 0.078    RMSE= 0.127"
   ]
  },
  {
   "cell_type": "markdown",
   "metadata": {},
   "source": [
    "KNN\n",
    "    MAPE =25.55  MAE =  2.78"
   ]
  },
  {
   "cell_type": "code",
   "execution_count": null,
   "metadata": {},
   "outputs": [],
   "source": []
  }
 ],
 "metadata": {
  "kernelspec": {
   "display_name": "Python 3",
   "language": "python",
   "name": "python3"
  },
  "language_info": {
   "codemirror_mode": {
    "name": "ipython",
    "version": 3
   },
   "file_extension": ".py",
   "mimetype": "text/x-python",
   "name": "python",
   "nbconvert_exporter": "python",
   "pygments_lexer": "ipython3",
   "version": "3.7.2"
  }
 },
 "nbformat": 4,
 "nbformat_minor": 1
}
